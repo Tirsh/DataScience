{
  "nbformat": 4,
  "nbformat_minor": 0,
  "metadata": {
    "kernelspec": {
      "display_name": "Python 3",
      "language": "python",
      "name": "python3"
    },
    "language_info": {
      "codemirror_mode": {
        "name": "ipython",
        "version": 3
      },
      "file_extension": ".py",
      "mimetype": "text/x-python",
      "name": "python",
      "nbconvert_exporter": "python",
      "pygments_lexer": "ipython3",
      "version": "3.7.1"
    },
    "colab": {
      "name": "your_first_model.ipynb",
      "provenance": [],
      "collapsed_sections": [],
      "toc_visible": true
    }
  },
  "cells": [
    {
      "cell_type": "markdown",
      "metadata": {
        "id": "Ti3-TNUJ1kSx"
      },
      "source": [
        "# Загрузка Pandas и очистка данных"
      ]
    },
    {
      "cell_type": "code",
      "metadata": {
        "id": "GRshWNCN1kSy"
      },
      "source": [
        "import pandas as pd"
      ],
      "execution_count": null,
      "outputs": []
    },
    {
      "cell_type": "code",
      "metadata": {
        "colab": {
          "base_uri": "https://localhost:8080/"
        },
        "id": "6vhTBMa93hBH",
        "outputId": "9ceacc86-968e-42f6-b689-3bbf30ab138b"
      },
      "source": [
        "from google.colab import drive\n",
        "drive.mount('files')"
      ],
      "execution_count": null,
      "outputs": [
        {
          "output_type": "stream",
          "text": [
            "Drive already mounted at files; to attempt to forcibly remount, call drive.mount(\"files\", force_remount=True).\n"
          ],
          "name": "stdout"
        }
      ]
    },
    {
      "cell_type": "code",
      "metadata": {
        "id": "CjBhEZ8D1kSy"
      },
      "source": [
        "df = pd.read_csv('/content/files/MyDrive/Colab Notebooks/data/Project3/main_task.csv')"
      ],
      "execution_count": null,
      "outputs": []
    },
    {
      "cell_type": "code",
      "metadata": {
        "id": "g516VIf61kSy"
      },
      "source": [
        "# Ваш код по очистке данных и генерации новых признаков\n",
        "# При необходимости добавьте ячейки"
      ],
      "execution_count": null,
      "outputs": []
    },
    {
      "cell_type": "code",
      "metadata": {
        "id": "aCI2zj6J1kSy"
      },
      "source": [
        ""
      ],
      "execution_count": null,
      "outputs": []
    },
    {
      "cell_type": "markdown",
      "metadata": {
        "id": "5N5Mfpsg1kSy"
      },
      "source": [
        "# Разбиваем датафрейм на части, необходимые для обучения и тестирования модели"
      ]
    },
    {
      "cell_type": "code",
      "metadata": {
        "colab": {
          "base_uri": "https://localhost:8080/"
        },
        "id": "WV_evEVp9w25",
        "outputId": "fb68eed8-c812-4972-81af-b62db382c9c5"
      },
      "source": [
        "df.info()"
      ],
      "execution_count": null,
      "outputs": [
        {
          "output_type": "stream",
          "text": [
            "<class 'pandas.core.frame.DataFrame'>\n",
            "RangeIndex: 40000 entries, 0 to 39999\n",
            "Data columns (total 10 columns):\n",
            " #   Column             Non-Null Count  Dtype  \n",
            "---  ------             --------------  -----  \n",
            " 0   Restaurant_id      40000 non-null  object \n",
            " 1   City               40000 non-null  object \n",
            " 2   Cuisine Style      30717 non-null  object \n",
            " 3   Ranking            40000 non-null  float64\n",
            " 4   Rating             40000 non-null  float64\n",
            " 5   Price Range        26114 non-null  object \n",
            " 6   Number of Reviews  37457 non-null  float64\n",
            " 7   Reviews            40000 non-null  object \n",
            " 8   URL_TA             40000 non-null  object \n",
            " 9   ID_TA              40000 non-null  object \n",
            "dtypes: float64(3), object(7)\n",
            "memory usage: 3.1+ MB\n"
          ],
          "name": "stdout"
        }
      ]
    },
    {
      "cell_type": "code",
      "metadata": {
        "id": "tbnkT1W10agv"
      },
      "source": [
        "new_data_city = pd.get_dummies(df['City'])"
      ],
      "execution_count": null,
      "outputs": []
    },
    {
      "cell_type": "code",
      "metadata": {
        "colab": {
          "base_uri": "https://localhost:8080/"
        },
        "id": "2Ur3vAAL1_QL",
        "outputId": "3ce04bc4-f797-4c98-9056-7e9bb34c9c11"
      },
      "source": [
        "new_data_city.columns"
      ],
      "execution_count": null,
      "outputs": [
        {
          "output_type": "execute_result",
          "data": {
            "text/plain": [
              "Index(['Amsterdam', 'Athens', 'Barcelona', 'Berlin', 'Bratislava', 'Brussels',\n",
              "       'Budapest', 'Copenhagen', 'Dublin', 'Edinburgh', 'Geneva', 'Hamburg',\n",
              "       'Helsinki', 'Krakow', 'Lisbon', 'Ljubljana', 'London', 'Luxembourg',\n",
              "       'Lyon', 'Madrid', 'Milan', 'Munich', 'Oporto', 'Oslo', 'Paris',\n",
              "       'Prague', 'Rome', 'Stockholm', 'Vienna', 'Warsaw', 'Zurich'],\n",
              "      dtype='object')"
            ]
          },
          "metadata": {
            "tags": []
          },
          "execution_count": 28
        }
      ]
    },
    {
      "cell_type": "code",
      "metadata": {
        "id": "hU-1-Ox9V4VI"
      },
      "source": [
        "new_data_price = pd.get_dummies(df['Price Range'])\n",
        "new_data_price.columns = ['Low', 'Middle', 'High']"
      ],
      "execution_count": null,
      "outputs": []
    },
    {
      "cell_type": "code",
      "metadata": {
        "id": "2A8SMpFI0ij0"
      },
      "source": [
        "df = pd.concat([df, new_data_city, new_data_price], axis=1)"
      ],
      "execution_count": null,
      "outputs": []
    },
    {
      "cell_type": "code",
      "metadata": {
        "id": "HSg1lDRHV4SS"
      },
      "source": [
        "def take_a_last_date(data):\n",
        "  date = data.split('], [')[1].split(',')[0].strip(\"'\")\n",
        "  return date if len(date)==10 else None\n",
        "\n",
        "def take_a_first_date(data):\n",
        "  date = data.split('], [')[1].split(',')[-1].strip(\" ']\")\n",
        "  return date if len(date)==10 else None\n",
        "\n",
        "df['Last time comment'] = df['Reviews'].apply(take_a_last_date)\n",
        "df['First time comment'] = df['Reviews'].apply(take_a_first_date)\n",
        "df['Last time comment'] = pd.to_datetime(df['Last time comment'])\n",
        "df['First time comment'] = pd.to_datetime(df['First time comment'])\n",
        "\n",
        "df['Days betwin comments'] = df['Last time comment'] - df['First time comment']\n",
        "df['Days betwin comments'].fillna(pd.Timedelta(0), inplace=True)\n",
        "df['Days betwin comments'] = df['Days betwin comments'].dt.days.astype('int16')"
      ],
      "execution_count": null,
      "outputs": []
    },
    {
      "cell_type": "code",
      "metadata": {
        "id": "LPefpxg9V4OM"
      },
      "source": [
        "cuisine = set(df['Cuisine Style'].str.cat(sep=',').replace(\"'\", '').replace('[', '').replace(']', '').replace(', ', ',').split(','))\n",
        "\n",
        "for item in cuisine:\n",
        "  df[item] = df[df['Cuisine Style'].notna()]['Cuisine Style'].apply(lambda x: 1 if item in x else 0)\n",
        "\n",
        "def cuisine_count(x):\n",
        "  return len(x.split(','))\n",
        "\n",
        "df['Cuisine Style'] = df[df['Cuisine Style'].notna()]['Cuisine Style'].apply(cuisine_count) \n",
        "df['Cuisine Style'].fillna(1, inplace=True)\n",
        "for item in cuisine:\n",
        "  df[item].fillna(0, inplace=True)"
      ],
      "execution_count": null,
      "outputs": []
    },
    {
      "cell_type": "code",
      "metadata": {
        "id": "uuD8F1J0fZYl"
      },
      "source": [
        "df['Number of Reviews'].fillna(df['Number of Reviews'].mean(), inplace=True)"
      ],
      "execution_count": null,
      "outputs": []
    },
    {
      "cell_type": "code",
      "metadata": {
        "id": "LyA7PEG4V4Gc"
      },
      "source": [
        "df.info(verbose=True, null_counts=True)"
      ],
      "execution_count": null,
      "outputs": []
    },
    {
      "cell_type": "code",
      "metadata": {
        "id": "-Wq2G8if1kSy"
      },
      "source": [
        "# Х - данные с информацией о ресторанах, у - целевая переменная (рейтинги ресторанов)\n",
        "X = df.drop(['Restaurant_id', 'City', 'Price Range', 'Reviews', 'URL_TA', 'ID_TA','Rating', 'Last time comment', 'First time comment'], axis = 1)\n",
        "y = df['Rating']"
      ],
      "execution_count": null,
      "outputs": []
    },
    {
      "cell_type": "code",
      "metadata": {
        "id": "XZ4HAqBKIrwh",
        "colab": {
          "base_uri": "https://localhost:8080/"
        },
        "outputId": "24a5fb3b-401c-4553-9088-2d36b330b32b"
      },
      "source": [
        "X.info(verbose=True, null_counts=True)"
      ],
      "execution_count": null,
      "outputs": [
        {
          "output_type": "stream",
          "text": [
            "<class 'pandas.core.frame.DataFrame'>\n",
            "RangeIndex: 40000 entries, 0 to 39999\n",
            "Data columns (total 163 columns):\n",
            " #   Column                Non-Null Count  Dtype  \n",
            "---  ------                --------------  -----  \n",
            " 0   Cuisine Style         40000 non-null  float64\n",
            " 1   Ranking               40000 non-null  float64\n",
            " 2   Number of Reviews     40000 non-null  float64\n",
            " 3   Amsterdam             40000 non-null  uint8  \n",
            " 4   Athens                40000 non-null  uint8  \n",
            " 5   Barcelona             40000 non-null  uint8  \n",
            " 6   Berlin                40000 non-null  uint8  \n",
            " 7   Bratislava            40000 non-null  uint8  \n",
            " 8   Brussels              40000 non-null  uint8  \n",
            " 9   Budapest              40000 non-null  uint8  \n",
            " 10  Copenhagen            40000 non-null  uint8  \n",
            " 11  Dublin                40000 non-null  uint8  \n",
            " 12  Edinburgh             40000 non-null  uint8  \n",
            " 13  Geneva                40000 non-null  uint8  \n",
            " 14  Hamburg               40000 non-null  uint8  \n",
            " 15  Helsinki              40000 non-null  uint8  \n",
            " 16  Krakow                40000 non-null  uint8  \n",
            " 17  Lisbon                40000 non-null  uint8  \n",
            " 18  Ljubljana             40000 non-null  uint8  \n",
            " 19  London                40000 non-null  uint8  \n",
            " 20  Luxembourg            40000 non-null  uint8  \n",
            " 21  Lyon                  40000 non-null  uint8  \n",
            " 22  Madrid                40000 non-null  uint8  \n",
            " 23  Milan                 40000 non-null  uint8  \n",
            " 24  Munich                40000 non-null  uint8  \n",
            " 25  Oporto                40000 non-null  uint8  \n",
            " 26  Oslo                  40000 non-null  uint8  \n",
            " 27  Paris                 40000 non-null  uint8  \n",
            " 28  Prague                40000 non-null  uint8  \n",
            " 29  Rome                  40000 non-null  uint8  \n",
            " 30  Stockholm             40000 non-null  uint8  \n",
            " 31  Vienna                40000 non-null  uint8  \n",
            " 32  Warsaw                40000 non-null  uint8  \n",
            " 33  Zurich                40000 non-null  uint8  \n",
            " 34  Low                   40000 non-null  uint8  \n",
            " 35  Middle                40000 non-null  uint8  \n",
            " 36  High                  40000 non-null  uint8  \n",
            " 37  Days betwin comments  40000 non-null  int16  \n",
            " 38  Pizza                 40000 non-null  float64\n",
            " 39  Diner                 40000 non-null  float64\n",
            " 40  Vegan Options         40000 non-null  float64\n",
            " 41  Mediterranean         40000 non-null  float64\n",
            " 42  American              40000 non-null  float64\n",
            " 43  Colombian             40000 non-null  float64\n",
            " 44  Persian               40000 non-null  float64\n",
            " 45  Armenian              40000 non-null  float64\n",
            " 46  Chilean               40000 non-null  float64\n",
            " 47  Greek                 40000 non-null  float64\n",
            " 48  Peruvian              40000 non-null  float64\n",
            " 49  Sushi                 40000 non-null  float64\n",
            " 50  Street Food           40000 non-null  float64\n",
            " 51  Indonesian            40000 non-null  float64\n",
            " 52  Hawaiian              40000 non-null  float64\n",
            " 53  Brew Pub              40000 non-null  float64\n",
            " 54  International         40000 non-null  float64\n",
            " 55  Welsh                 40000 non-null  float64\n",
            " 56  Tibetan               40000 non-null  float64\n",
            " 57  Balti                 40000 non-null  float64\n",
            " 58  Venezuelan            40000 non-null  float64\n",
            " 59  Uzbek                 40000 non-null  float64\n",
            " 60  Polynesian            40000 non-null  float64\n",
            " 61  Grill                 40000 non-null  float64\n",
            " 62  Seafood               40000 non-null  float64\n",
            " 63  Jamaican              40000 non-null  float64\n",
            " 64  Fast Food             40000 non-null  float64\n",
            " 65  Vietnamese            40000 non-null  float64\n",
            " 66  Australian            40000 non-null  float64\n",
            " 67  Croatian              40000 non-null  float64\n",
            " 68  Irish                 40000 non-null  float64\n",
            " 69  Fusion                40000 non-null  float64\n",
            " 70  Austrian              40000 non-null  float64\n",
            " 71  Korean                40000 non-null  float64\n",
            " 72  Central American      40000 non-null  float64\n",
            " 73  Dutch                 40000 non-null  float64\n",
            " 74  Pub                   40000 non-null  float64\n",
            " 75  Slovenian             40000 non-null  float64\n",
            " 76  Norwegian             40000 non-null  float64\n",
            " 77  Salvadoran            40000 non-null  float64\n",
            " 78  French                40000 non-null  float64\n",
            " 79  African               40000 non-null  float64\n",
            " 80  Soups                 40000 non-null  float64\n",
            " 81  Canadian              40000 non-null  float64\n",
            " 82  Scottish              40000 non-null  float64\n",
            " 83  Fujian                40000 non-null  float64\n",
            " 84  Tunisian              40000 non-null  float64\n",
            " 85  Cambodian             40000 non-null  float64\n",
            " 86  Bangladeshi           40000 non-null  float64\n",
            " 87  Contemporary          40000 non-null  float64\n",
            " 88  Central Asian         40000 non-null  float64\n",
            " 89  British               40000 non-null  float64\n",
            " 90  Swiss                 40000 non-null  float64\n",
            " 91  Swedish               40000 non-null  float64\n",
            " 92  Brazilian             40000 non-null  float64\n",
            " 93  Caucasian             40000 non-null  float64\n",
            " 94  Southwestern          40000 non-null  float64\n",
            " 95  Xinjiang              40000 non-null  float64\n",
            " 96  Pakistani             40000 non-null  float64\n",
            " 97  Filipino              40000 non-null  float64\n",
            " 98  Chinese               40000 non-null  float64\n",
            " 99  Central European      40000 non-null  float64\n",
            " 100 Belgian               40000 non-null  float64\n",
            " 101 Wine Bar              40000 non-null  float64\n",
            " 102 Minority Chinese      40000 non-null  float64\n",
            " 103 Polish                40000 non-null  float64\n",
            " 104 Scandinavian          40000 non-null  float64\n",
            " 105 Kosher                40000 non-null  float64\n",
            " 106 Barbecue              40000 non-null  float64\n",
            " 107 Mexican               40000 non-null  float64\n",
            " 108 Portuguese            40000 non-null  float64\n",
            " 109 Latvian               40000 non-null  float64\n",
            " 110 Cafe                  40000 non-null  float64\n",
            " 111 New Zealand           40000 non-null  float64\n",
            " 112 Burmese               40000 non-null  float64\n",
            " 113 Taiwanese             40000 non-null  float64\n",
            " 114 South American        40000 non-null  float64\n",
            " 115 Gastropub             40000 non-null  float64\n",
            " 116 German                40000 non-null  float64\n",
            " 117 Arabic                40000 non-null  float64\n",
            " 118 Sri Lankan            40000 non-null  float64\n",
            " 119 Romanian              40000 non-null  float64\n",
            " 120 Asian                 40000 non-null  float64\n",
            " 121 Czech                 40000 non-null  float64\n",
            " 122 Malaysian             40000 non-null  float64\n",
            " 123 Yunnan                40000 non-null  float64\n",
            " 124 Egyptian              40000 non-null  float64\n",
            " 125 Argentinean           40000 non-null  float64\n",
            " 126 Vegetarian Friendly   40000 non-null  float64\n",
            " 127 Middle Eastern        40000 non-null  float64\n",
            " 128 Israeli               40000 non-null  float64\n",
            " 129 Italian               40000 non-null  float64\n",
            " 130 Hungarian             40000 non-null  float64\n",
            " 131 Thai                  40000 non-null  float64\n",
            " 132 Latin                 40000 non-null  float64\n",
            " 133 Albanian              40000 non-null  float64\n",
            " 134 Afghani               40000 non-null  float64\n",
            " 135 Healthy               40000 non-null  float64\n",
            " 136 Indian                40000 non-null  float64\n",
            " 137 European              40000 non-null  float64\n",
            " 138 Mongolian             40000 non-null  float64\n",
            " 139 Native American       40000 non-null  float64\n",
            " 140 Turkish               40000 non-null  float64\n",
            " 141 Georgian              40000 non-null  float64\n",
            " 142 Steakhouse            40000 non-null  float64\n",
            " 143 Azerbaijani           40000 non-null  float64\n",
            " 144 Delicatessen          40000 non-null  float64\n",
            " 145 Halal                 40000 non-null  float64\n",
            " 146 Ukrainian             40000 non-null  float64\n",
            " 147 Japanese              40000 non-null  float64\n",
            " 148 Singaporean           40000 non-null  float64\n",
            " 149 Lebanese              40000 non-null  float64\n",
            " 150 Danish                40000 non-null  float64\n",
            " 151 Ethiopian             40000 non-null  float64\n",
            " 152 Gluten Free Options   40000 non-null  float64\n",
            " 153 Russian               40000 non-null  float64\n",
            " 154 Ecuadorean            40000 non-null  float64\n",
            " 155 Bar                   40000 non-null  float64\n",
            " 156 Moroccan              40000 non-null  float64\n",
            " 157 Nepali                40000 non-null  float64\n",
            " 158 Cajun & Creole        40000 non-null  float64\n",
            " 159 Eastern European      40000 non-null  float64\n",
            " 160 Cuban                 40000 non-null  float64\n",
            " 161 Spanish               40000 non-null  float64\n",
            " 162 Caribbean             40000 non-null  float64\n",
            "dtypes: float64(128), int16(1), uint8(34)\n",
            "memory usage: 40.4 MB\n"
          ],
          "name": "stdout"
        }
      ]
    },
    {
      "cell_type": "code",
      "metadata": {
        "id": "0iB7H0NT1kSy"
      },
      "source": [
        "# Загружаем специальный инструмент для разбивки:\n",
        "from sklearn.model_selection import train_test_split"
      ],
      "execution_count": null,
      "outputs": []
    },
    {
      "cell_type": "code",
      "metadata": {
        "id": "Ji7Mqdmd1kSy"
      },
      "source": [
        "# Наборы данных с меткой \"train\" будут использоваться для обучения модели, \"test\" - для тестирования.\n",
        "# Для тестирования мы будем использовать 25% от исходного датасета.\n",
        "X_train, X_test, y_train, y_test = train_test_split(X, y, test_size=0.25)"
      ],
      "execution_count": null,
      "outputs": []
    },
    {
      "cell_type": "code",
      "metadata": {
        "id": "wHo6tbxw9tdk"
      },
      "source": [
        ""
      ],
      "execution_count": null,
      "outputs": []
    },
    {
      "cell_type": "markdown",
      "metadata": {
        "id": "bpzvXlUq1kSy"
      },
      "source": [
        "# Создаём, обучаем и тестируем модель"
      ]
    },
    {
      "cell_type": "code",
      "metadata": {
        "id": "saViRF9L1kSy"
      },
      "source": [
        "# Импортируем необходимые библиотеки:\n",
        "from sklearn.ensemble import RandomForestRegressor # инструмент для создания и обучения модели\n",
        "from sklearn import metrics # инструменты для оценки точности модели"
      ],
      "execution_count": null,
      "outputs": []
    },
    {
      "cell_type": "code",
      "metadata": {
        "id": "1DPOiNld1kSy"
      },
      "source": [
        "# Создаём модель\n",
        "regr = RandomForestRegressor(n_estimators=100)\n",
        "\n",
        "# Обучаем модель на тестовом наборе данных\n",
        "regr.fit(X_train, y_train)\n",
        "\n",
        "# Используем обученную модель для предсказания рейтинга ресторанов в тестовой выборке.\n",
        "# Предсказанные значения записываем в переменную y_pred\n",
        "y_pred = regr.predict(X_test)"
      ],
      "execution_count": null,
      "outputs": []
    },
    {
      "cell_type": "code",
      "metadata": {
        "colab": {
          "base_uri": "https://localhost:8080/"
        },
        "id": "dUyzm2P01kSy",
        "outputId": "91c4ba6f-9036-49aa-8fc1-0146ded8e1dc"
      },
      "source": [
        "# Сравниваем предсказанные значения (y_pred) с реальными (y_test), и смотрим насколько они в среднем отличаются\n",
        "# Метрика называется Mean Absolute Error (MAE) и показывает среднее отклонение предсказанных значений от фактических.\n",
        "print('MAE:', metrics.mean_absolute_error(y_test, y_pred))"
      ],
      "execution_count": null,
      "outputs": [
        {
          "output_type": "stream",
          "text": [
            "MAE: 0.21455349999999998\n"
          ],
          "name": "stdout"
        }
      ]
    },
    {
      "cell_type": "code",
      "metadata": {
        "id": "jVlVH5ZOJcde"
      },
      "source": [
        ""
      ],
      "execution_count": null,
      "outputs": []
    }
  ]
}