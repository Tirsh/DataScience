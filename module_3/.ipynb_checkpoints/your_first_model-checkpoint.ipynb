{
 "cells": [
  {
   "cell_type": "markdown",
   "metadata": {
    "id": "Ti3-TNUJ1kSx"
   },
   "source": [
    "# Загрузка Pandas и очистка данных"
   ]
  },
  {
   "cell_type": "code",
   "execution_count": 1,
   "metadata": {
    "id": "GRshWNCN1kSy"
   },
   "outputs": [],
   "source": [
    "#Подключение необходимых библиотек\n",
    "import pandas as pd\n",
    "import numpy as np\n",
    "import json"
   ]
  },
  {
   "cell_type": "code",
   "execution_count": 2,
   "metadata": {
    "id": "CjBhEZ8D1kSy"
   },
   "outputs": [],
   "source": [
    "#Загрузка необходимых данных, для дальнейшей обработки\n",
    "df = pd.read_csv('main_task.csv')\n",
    "#основная информация о городах из датасета (Страна, население, столица или нет)\n",
    "with open('city_info.json') as f:\n",
    "    city_info = json.load(f)"
   ]
  },
  {
   "cell_type": "code",
   "execution_count": 3,
   "metadata": {},
   "outputs": [
    {
     "name": "stdout",
     "output_type": "stream",
     "text": [
      "<class 'pandas.core.frame.DataFrame'>\n",
      "RangeIndex: 40000 entries, 0 to 39999\n",
      "Data columns (total 10 columns):\n",
      " #   Column             Non-Null Count  Dtype  \n",
      "---  ------             --------------  -----  \n",
      " 0   Restaurant_id      40000 non-null  object \n",
      " 1   City               40000 non-null  object \n",
      " 2   Cuisine Style      30717 non-null  object \n",
      " 3   Ranking            40000 non-null  float64\n",
      " 4   Rating             40000 non-null  float64\n",
      " 5   Price Range        26114 non-null  object \n",
      " 6   Number of Reviews  37457 non-null  float64\n",
      " 7   Reviews            40000 non-null  object \n",
      " 8   URL_TA             40000 non-null  object \n",
      " 9   ID_TA              40000 non-null  object \n",
      "dtypes: float64(3), object(7)\n",
      "memory usage: 3.1+ MB\n"
     ]
    }
   ],
   "source": [
    "df.info()"
   ]
  },
  {
   "cell_type": "code",
   "execution_count": 4,
   "metadata": {},
   "outputs": [
    {
     "data": {
      "text/plain": [
       "{'Munich': {'capital': 0, 'population': 1456000, 'country': 'Germany'},\n",
       " 'Oporto': {'capital': 0, 'population': 214000, 'country': 'Portugal'},\n",
       " 'Milan': {'capital': 0, 'population': 1352000, 'country': 'Italy'},\n",
       " 'Barcelona': {'capital': 0, 'population': 5515000, 'country': 'Spain'},\n",
       " 'Zurich': {'capital': 0, 'population': 402000, 'country': 'Switzerland'},\n",
       " 'Lyon': {'capital': 0, 'population': 513000, 'country': 'France'},\n",
       " 'Hamburg': {'capital': 0, 'population': 1822000, 'country': 'Germany'},\n",
       " 'Geneva': {'capital': 0, 'population': 495000, 'country': 'Switzerland'},\n",
       " 'Krakow': {'capital': 0, 'population': 769000, 'country': 'Poland'},\n",
       " 'Paris': {'capital': 1, 'population': 2148000, 'country': 'France'},\n",
       " 'Stockholm': {'capital': 1, 'population': 974000, 'country': 'Sweden'},\n",
       " 'London': {'capital': 1, 'population': 8899000, 'country': 'England'},\n",
       " 'Berlin': {'capital': 1, 'population': 3748000, 'country': 'Germany'},\n",
       " 'Bratislava': {'capital': 1, 'population': 424000, 'country': 'Slovakia'},\n",
       " 'Vienna': {'capital': 1, 'population': 1889000, 'country': 'Austria'},\n",
       " 'Rome': {'capital': 1, 'population': 2873000, 'country': 'Italy'},\n",
       " 'Madrid': {'capital': 1, 'population': 6549000, 'country': 'Spain'},\n",
       " 'Dublin': {'capital': 1, 'population': 1361000, 'country': 'Ireland'},\n",
       " 'Brussels': {'capital': 1, 'population': 1831000, 'country': 'Belgium'},\n",
       " 'Warsaw': {'capital': 1, 'population': 1708000, 'country': 'Poland'},\n",
       " 'Budapest': {'capital': 1, 'population': 1750000, 'country': 'Hungary'},\n",
       " 'Copenhagen': {'capital': 1, 'population': 602000, 'country': 'Denmark'},\n",
       " 'Amsterdam': {'capital': 1,\n",
       "  'population': 821000,\n",
       "  'country': 'The Netherlands'},\n",
       " 'Lisbon': {'capital': 1, 'population': 504000, 'country': 'Portugal'},\n",
       " 'Prague': {'capital': 1,\n",
       "  'population': 1319000,\n",
       "  'country': 'The Czech Republic'},\n",
       " 'Oslo': {'capital': 1, 'population': 673000, 'country': 'Norway'},\n",
       " 'Helsinki': {'capital': 1, 'population': 631000, 'country': 'Finland'},\n",
       " 'Edinburgh': {'capital': 1, 'population': 488000, 'country': 'Scotland'},\n",
       " 'Ljubljana': {'capital': 1, 'population': 284000, 'country': 'Slovenia'},\n",
       " 'Athens': {'capital': 1, 'population': 664000, 'country': 'Greece'},\n",
       " 'Luxembourg': {'capital': 1, 'population': 115000, 'country': 'Luxembourg'}}"
      ]
     },
     "execution_count": 4,
     "metadata": {},
     "output_type": "execute_result"
    }
   ],
   "source": [
    "city_info"
   ]
  },
  {
   "cell_type": "code",
   "execution_count": 5,
   "metadata": {},
   "outputs": [
    {
     "data": {
      "text/html": [
       "<div>\n",
       "<style scoped>\n",
       "    .dataframe tbody tr th:only-of-type {\n",
       "        vertical-align: middle;\n",
       "    }\n",
       "\n",
       "    .dataframe tbody tr th {\n",
       "        vertical-align: top;\n",
       "    }\n",
       "\n",
       "    .dataframe thead th {\n",
       "        text-align: right;\n",
       "    }\n",
       "</style>\n",
       "<table border=\"1\" class=\"dataframe\">\n",
       "  <thead>\n",
       "    <tr style=\"text-align: right;\">\n",
       "      <th></th>\n",
       "      <th>Restaurant_id</th>\n",
       "      <th>City</th>\n",
       "      <th>Cuisine Style</th>\n",
       "      <th>Ranking</th>\n",
       "      <th>Rating</th>\n",
       "      <th>Price Range</th>\n",
       "      <th>Number of Reviews</th>\n",
       "      <th>Reviews</th>\n",
       "      <th>URL_TA</th>\n",
       "      <th>ID_TA</th>\n",
       "    </tr>\n",
       "  </thead>\n",
       "  <tbody>\n",
       "    <tr>\n",
       "      <th>0</th>\n",
       "      <td>id_5569</td>\n",
       "      <td>Paris</td>\n",
       "      <td>['European', 'French', 'International']</td>\n",
       "      <td>5570.0</td>\n",
       "      <td>3.5</td>\n",
       "      <td>$$ - $$$</td>\n",
       "      <td>194.0</td>\n",
       "      <td>[['Good food at your doorstep', 'A good hotel ...</td>\n",
       "      <td>/Restaurant_Review-g187147-d1912643-Reviews-R_...</td>\n",
       "      <td>d1912643</td>\n",
       "    </tr>\n",
       "    <tr>\n",
       "      <th>1</th>\n",
       "      <td>id_1535</td>\n",
       "      <td>Stockholm</td>\n",
       "      <td>NaN</td>\n",
       "      <td>1537.0</td>\n",
       "      <td>4.0</td>\n",
       "      <td>NaN</td>\n",
       "      <td>10.0</td>\n",
       "      <td>[['Unique cuisine', 'Delicious Nepalese food']...</td>\n",
       "      <td>/Restaurant_Review-g189852-d7992032-Reviews-Bu...</td>\n",
       "      <td>d7992032</td>\n",
       "    </tr>\n",
       "    <tr>\n",
       "      <th>2</th>\n",
       "      <td>id_352</td>\n",
       "      <td>London</td>\n",
       "      <td>['Japanese', 'Sushi', 'Asian', 'Grill', 'Veget...</td>\n",
       "      <td>353.0</td>\n",
       "      <td>4.5</td>\n",
       "      <td>$$$$</td>\n",
       "      <td>688.0</td>\n",
       "      <td>[['Catch up with friends', 'Not exceptional'],...</td>\n",
       "      <td>/Restaurant_Review-g186338-d8632781-Reviews-RO...</td>\n",
       "      <td>d8632781</td>\n",
       "    </tr>\n",
       "    <tr>\n",
       "      <th>3</th>\n",
       "      <td>id_3456</td>\n",
       "      <td>Berlin</td>\n",
       "      <td>NaN</td>\n",
       "      <td>3458.0</td>\n",
       "      <td>5.0</td>\n",
       "      <td>NaN</td>\n",
       "      <td>3.0</td>\n",
       "      <td>[[], []]</td>\n",
       "      <td>/Restaurant_Review-g187323-d1358776-Reviews-Es...</td>\n",
       "      <td>d1358776</td>\n",
       "    </tr>\n",
       "    <tr>\n",
       "      <th>4</th>\n",
       "      <td>id_615</td>\n",
       "      <td>Munich</td>\n",
       "      <td>['German', 'Central European', 'Vegetarian Fri...</td>\n",
       "      <td>621.0</td>\n",
       "      <td>4.0</td>\n",
       "      <td>$$ - $$$</td>\n",
       "      <td>84.0</td>\n",
       "      <td>[['Best place to try a Bavarian food', 'Nice b...</td>\n",
       "      <td>/Restaurant_Review-g187309-d6864963-Reviews-Au...</td>\n",
       "      <td>d6864963</td>\n",
       "    </tr>\n",
       "  </tbody>\n",
       "</table>\n",
       "</div>"
      ],
      "text/plain": [
       "  Restaurant_id       City                                      Cuisine Style  \\\n",
       "0       id_5569      Paris            ['European', 'French', 'International']   \n",
       "1       id_1535  Stockholm                                                NaN   \n",
       "2        id_352     London  ['Japanese', 'Sushi', 'Asian', 'Grill', 'Veget...   \n",
       "3       id_3456     Berlin                                                NaN   \n",
       "4        id_615     Munich  ['German', 'Central European', 'Vegetarian Fri...   \n",
       "\n",
       "   Ranking  Rating Price Range  Number of Reviews  \\\n",
       "0   5570.0     3.5    $$ - $$$              194.0   \n",
       "1   1537.0     4.0         NaN               10.0   \n",
       "2    353.0     4.5        $$$$              688.0   \n",
       "3   3458.0     5.0         NaN                3.0   \n",
       "4    621.0     4.0    $$ - $$$               84.0   \n",
       "\n",
       "                                             Reviews  \\\n",
       "0  [['Good food at your doorstep', 'A good hotel ...   \n",
       "1  [['Unique cuisine', 'Delicious Nepalese food']...   \n",
       "2  [['Catch up with friends', 'Not exceptional'],...   \n",
       "3                                           [[], []]   \n",
       "4  [['Best place to try a Bavarian food', 'Nice b...   \n",
       "\n",
       "                                              URL_TA     ID_TA  \n",
       "0  /Restaurant_Review-g187147-d1912643-Reviews-R_...  d1912643  \n",
       "1  /Restaurant_Review-g189852-d7992032-Reviews-Bu...  d7992032  \n",
       "2  /Restaurant_Review-g186338-d8632781-Reviews-RO...  d8632781  \n",
       "3  /Restaurant_Review-g187323-d1358776-Reviews-Es...  d1358776  \n",
       "4  /Restaurant_Review-g187309-d6864963-Reviews-Au...  d6864963  "
      ]
     },
     "execution_count": 5,
     "metadata": {},
     "output_type": "execute_result"
    }
   ],
   "source": [
    "df.head(5)"
   ]
  },
  {
   "cell_type": "code",
   "execution_count": 6,
   "metadata": {
    "id": "g516VIf61kSy"
   },
   "outputs": [],
   "source": [
    "# Ваш код по очистке данных и генерации новых признаков\n",
    "# При необходимости добавьте ячейки"
   ]
  },
  {
   "cell_type": "markdown",
   "metadata": {},
   "source": [
    "City"
   ]
  },
  {
   "cell_type": "code",
   "execution_count": 7,
   "metadata": {},
   "outputs": [],
   "source": [
    "#Добавляем информацию о стране\n",
    "df['Country'] = df['City'].apply(lambda x: city_info[x]['country'])\n",
    "#Создаем dummie переменные на основе столбца Country\n",
    "df = pd.get_dummies(df, columns= ['Country'])"
   ]
  },
  {
   "cell_type": "code",
   "execution_count": 8,
   "metadata": {},
   "outputs": [],
   "source": [
    "#Добавляем информацию о колличестве жителей в городе\n",
    "df['Citizens'] = df['City'].apply(lambda x: city_info[x]['population'])"
   ]
  },
  {
   "cell_type": "code",
   "execution_count": 9,
   "metadata": {},
   "outputs": [],
   "source": [
    "#Добавляем информацию о статусе города: столица или нет\n",
    "df['Capital'] = df['City'].apply(lambda x: city_info[x]['capital'])"
   ]
  },
  {
   "cell_type": "code",
   "execution_count": 10,
   "metadata": {},
   "outputs": [],
   "source": [
    "#Добавляем информацию о максимальном рейтинге ресторанов в городе Max-Ranking\n",
    "df['Max-Ranking'] = df.groupby(['City'])['Ranking'].transform(max)"
   ]
  },
  {
   "cell_type": "code",
   "execution_count": 11,
   "metadata": {},
   "outputs": [],
   "source": [
    "#Создаем dummie переменные на основе столбца City\n",
    "df = pd.get_dummies(df, columns= ['City'])"
   ]
  },
  {
   "cell_type": "markdown",
   "metadata": {},
   "source": [
    "Cuisine Style"
   ]
  },
  {
   "cell_type": "code",
   "execution_count": 12,
   "metadata": {},
   "outputs": [],
   "source": [
    "#Пустые значения в столбце Cuisine Style заполнеяем значеним ['Other'] - другие кухни.\n",
    "df['Cuisine Style'].fillna(\"['Other']\", inplace=True)"
   ]
  },
  {
   "cell_type": "code",
   "execution_count": 13,
   "metadata": {},
   "outputs": [],
   "source": [
    "#Получаем множество всех значений стилей кухонь\n",
    "cuisine = set(df['Cuisine Style'].str.cat(sep=',').\n",
    "              replace(\"'\", '').replace('[', '').replace(']', '').\n",
    "              replace(', ', ',').split(','))"
   ]
  },
  {
   "cell_type": "code",
   "execution_count": 14,
   "metadata": {},
   "outputs": [],
   "source": [
    "#Добавляем информацию о колличестве кухонь в ресторане\n",
    "def cuisine_count(x):\n",
    "    return len(x.split(','))\n",
    "df['Number of Cuisine Styles'] = df['Cuisine Style'].apply(cuisine_count)"
   ]
  },
  {
   "cell_type": "code",
   "execution_count": 15,
   "metadata": {},
   "outputs": [],
   "source": [
    "#Определяем топ 5% наиболее популярных стилей кухни\n",
    "#cuisine_dict - славарь {название кухни:в скольки ресторанах присутствует}\n",
    "cuisine_dict ={}\n",
    "for item in cuisine:\n",
    "    cuisine_dict[item] = df['Cuisine Style'].apply(lambda x: 1 if item in x else 0).value_counts()[1]\n",
    "    \n",
    "#Определяем значение топ 5% наиболее популярных стилей кухни    \n",
    "top_cuisine_val = int(np.percentile(list(cuisine_dict.values()), 95))\n",
    "#Отделяем топ-кухни от остальных\n",
    "top_cousine = list(filter(lambda x: cuisine_dict[x]>=top_cuisine_val, cuisine_dict))\n",
    "other_cousune = list(filter(lambda x: cuisine_dict[x]<top_cuisine_val, cuisine_dict))\n",
    "#Удаляем 'Other' из топ-кухонь, и добавляем в other_cousune\n",
    "top_cousine.remove('Other')\n",
    "other_cousune.append('Other')\n",
    "\n",
    "#Используем one-hot-кодирование для добавления топ кухонь и остальных - other_cousune\n",
    "for item in top_cousine:\n",
    "    df['Cuisine_'+item] = df['Cuisine Style'].apply(lambda x: 1 if item in x else 0)\n",
    "for item in other_cousune:\n",
    "    df['Cousine_Other'] = df['Cuisine Style'].apply(lambda x: 1 if item in x else 0)"
   ]
  },
  {
   "cell_type": "markdown",
   "metadata": {},
   "source": [
    "Ranking"
   ]
  },
  {
   "cell_type": "code",
   "execution_count": 16,
   "metadata": {},
   "outputs": [],
   "source": [
    "#Добавляем рейтинг относительно города\n",
    "df['Ranking by city'] = df['Ranking'] / df['Max-Ranking']\n",
    "#Добавляем рейтинг относительно населения\n",
    "df['Ranking by сitizens'] = df['Ranking'] / df['Citizens']"
   ]
  },
  {
   "cell_type": "markdown",
   "metadata": {},
   "source": [
    "Price Range"
   ]
  },
  {
   "cell_type": "code",
   "execution_count": 17,
   "metadata": {},
   "outputs": [],
   "source": [
    "#Переводим порядковые категориальные признаки цены в целые значения\n",
    "def price_range(price):\n",
    "    if pd.notna(price):\n",
    "        return {'$': 1, '$$ - $$$': 2, '$$$$': 3}[price]\n",
    "    return 0\n",
    "\n",
    "df['Price Range'] = df['Price Range'].apply(price_range)"
   ]
  },
  {
   "cell_type": "markdown",
   "metadata": {},
   "source": [
    "Number of Reviews"
   ]
  },
  {
   "cell_type": "code",
   "execution_count": 18,
   "metadata": {},
   "outputs": [],
   "source": [
    "#Заполним пустые значения Number of Reviews из логики: нет значения - нет отзывов\n",
    "df['Number of Reviews'].fillna(0, inplace=True)"
   ]
  },
  {
   "cell_type": "markdown",
   "metadata": {},
   "source": [
    "Reviews"
   ]
  },
  {
   "cell_type": "code",
   "execution_count": 46,
   "metadata": {},
   "outputs": [],
   "source": [
    "#Получим данные о дате и времени первого и последнего комментария.\n",
    "def take_a_last_date(data):\n",
    "    \"\"\"Получаем строку первой датой (при ее наличии), указанной в комментарии\"\"\"\n",
    "    if pd.isna(data):\n",
    "        return None\n",
    "    date = data.split('], [')[1].split(',')[0].strip(\"']\")\n",
    "    return date if date else None\n",
    "    \n",
    "def take_a_first_date(data):\n",
    "    \"\"\"Получаем строку с последней датой (при ее наличии), указанной в комментарии\"\"\"\n",
    "    if pd.isna(data):\n",
    "        return None\n",
    "    date = data.split('], [')[1].split(',')[-1].strip(\" ']\")\n",
    "    return date if len(date)==10 else None\n",
    "\n",
    "#Получим данные о дате и времени первого и последнего комментария.\n",
    "time_of_last_comment = pd.to_datetime(df['Reviews'].apply(take_a_last_date))\n",
    "time_of_first_comment = pd.to_datetime(df['Reviews'].apply(take_a_first_date))\n",
    "#Находим дельту между последним и первым комментарием\n",
    "delta_comments = time_of_last_comment - time_of_first_comment\n",
    "#Создадим новый признак колличество дней между комментариями\n",
    "df['Days betwin comments'] = delta_comments.apply(lambda x: np.abs(x.days))\n",
    "#Избавимся от пустых значений заменив на 0.\n",
    "df['Days betwin comments'].fillna(0, inplace=True)\n",
    "#Откорректируем 0-ые значения в записях где параметр 'Number of Reviews' > 1, заменив их средним значением.\n",
    "mean_days = int(df['Days betwin comments'].mean())\n",
    "def adjustment(line):\n",
    "    \"\"\"Принимает значение сторки, изменяет значение 'Days betwin comments' если соблюдается условие\"\"\"\n",
    "    if line['Number of Reviews'] != 0 and line['Days betwin comments'] == 0:\n",
    "        line['Days betwin comments'] = mean_days\n",
    "    return line\n",
    "df = df.apply(adjustment, axis = 1)\n",
    "\n",
    "#Добавим колличество дней с последнего комментария, за точку осчета возьмюм дату последних комментарий в датасете\n",
    "df['Days from last comment'] = time_of_last_comment.max() - time_of_last_comment\n",
    "df['Days from last comment'] = df['Days from last comment'].dropna().apply(lambda x: x.days + 1).astype('int')\n",
    "#Заполним пустые значения, средним значением по датасету\n",
    "df['Days from last comment'].fillna(df['Days from last comment'].mean(), inplace=True)"
   ]
  },
  {
   "cell_type": "code",
   "execution_count": 47,
   "metadata": {
    "id": "-Wq2G8if1kSy"
   },
   "outputs": [],
   "source": [
    "# Х - данные с информацией о ресторанах, у - целевая переменная (рейтинги ресторанов)\n",
    "X = df.drop(['Cuisine Style', 'Restaurant_id', 'Reviews', 'URL_TA', 'ID_TA','Rating','Days betwin comments'], axis = 1)\n",
    "y = df['Rating']"
   ]
  },
  {
   "cell_type": "code",
   "execution_count": 48,
   "metadata": {
    "colab": {
     "base_uri": "https://localhost:8080/"
    },
    "id": "XZ4HAqBKIrwh",
    "outputId": "24a5fb3b-401c-4553-9088-2d36b330b32b"
   },
   "outputs": [
    {
     "name": "stdout",
     "output_type": "stream",
     "text": [
      "<class 'pandas.core.frame.DataFrame'>\n",
      "RangeIndex: 40000 entries, 0 to 39999\n",
      "Data columns (total 71 columns):\n",
      " #   Column                       Non-Null Count  Dtype  \n",
      "---  ------                       --------------  -----  \n",
      " 0   Ranking                      40000 non-null  float64\n",
      " 1   Price Range                  40000 non-null  int64  \n",
      " 2   Number of Reviews            40000 non-null  float64\n",
      " 3   Country_Austria              40000 non-null  int64  \n",
      " 4   Country_Belgium              40000 non-null  int64  \n",
      " 5   Country_Denmark              40000 non-null  int64  \n",
      " 6   Country_England              40000 non-null  int64  \n",
      " 7   Country_Finland              40000 non-null  int64  \n",
      " 8   Country_France               40000 non-null  int64  \n",
      " 9   Country_Germany              40000 non-null  int64  \n",
      " 10  Country_Greece               40000 non-null  int64  \n",
      " 11  Country_Hungary              40000 non-null  int64  \n",
      " 12  Country_Ireland              40000 non-null  int64  \n",
      " 13  Country_Italy                40000 non-null  int64  \n",
      " 14  Country_Luxembourg           40000 non-null  int64  \n",
      " 15  Country_Norway               40000 non-null  int64  \n",
      " 16  Country_Poland               40000 non-null  int64  \n",
      " 17  Country_Portugal             40000 non-null  int64  \n",
      " 18  Country_Scotland             40000 non-null  int64  \n",
      " 19  Country_Slovakia             40000 non-null  int64  \n",
      " 20  Country_Slovenia             40000 non-null  int64  \n",
      " 21  Country_Spain                40000 non-null  int64  \n",
      " 22  Country_Sweden               40000 non-null  int64  \n",
      " 23  Country_Switzerland          40000 non-null  int64  \n",
      " 24  Country_The Czech Republic   40000 non-null  int64  \n",
      " 25  Country_The Netherlands      40000 non-null  int64  \n",
      " 26  Citizens                     40000 non-null  int64  \n",
      " 27  Capital                      40000 non-null  int64  \n",
      " 28  Max-Ranking                  40000 non-null  float64\n",
      " 29  City_Amsterdam               40000 non-null  int64  \n",
      " 30  City_Athens                  40000 non-null  int64  \n",
      " 31  City_Barcelona               40000 non-null  int64  \n",
      " 32  City_Berlin                  40000 non-null  int64  \n",
      " 33  City_Bratislava              40000 non-null  int64  \n",
      " 34  City_Brussels                40000 non-null  int64  \n",
      " 35  City_Budapest                40000 non-null  int64  \n",
      " 36  City_Copenhagen              40000 non-null  int64  \n",
      " 37  City_Dublin                  40000 non-null  int64  \n",
      " 38  City_Edinburgh               40000 non-null  int64  \n",
      " 39  City_Geneva                  40000 non-null  int64  \n",
      " 40  City_Hamburg                 40000 non-null  int64  \n",
      " 41  City_Helsinki                40000 non-null  int64  \n",
      " 42  City_Krakow                  40000 non-null  int64  \n",
      " 43  City_Lisbon                  40000 non-null  int64  \n",
      " 44  City_Ljubljana               40000 non-null  int64  \n",
      " 45  City_London                  40000 non-null  int64  \n",
      " 46  City_Luxembourg              40000 non-null  int64  \n",
      " 47  City_Lyon                    40000 non-null  int64  \n",
      " 48  City_Madrid                  40000 non-null  int64  \n",
      " 49  City_Milan                   40000 non-null  int64  \n",
      " 50  City_Munich                  40000 non-null  int64  \n",
      " 51  City_Oporto                  40000 non-null  int64  \n",
      " 52  City_Oslo                    40000 non-null  int64  \n",
      " 53  City_Paris                   40000 non-null  int64  \n",
      " 54  City_Prague                  40000 non-null  int64  \n",
      " 55  City_Rome                    40000 non-null  int64  \n",
      " 56  City_Stockholm               40000 non-null  int64  \n",
      " 57  City_Vienna                  40000 non-null  int64  \n",
      " 58  City_Warsaw                  40000 non-null  int64  \n",
      " 59  City_Zurich                  40000 non-null  int64  \n",
      " 60  Number of Cuisine Styles     40000 non-null  int64  \n",
      " 61  Cuisine_Vegetarian Friendly  40000 non-null  int64  \n",
      " 62  Cuisine_Italian              40000 non-null  int64  \n",
      " 63  Cuisine_European             40000 non-null  int64  \n",
      " 64  Cuisine_Bar                  40000 non-null  int64  \n",
      " 65  Cuisine_Vegan Options        40000 non-null  int64  \n",
      " 66  Cuisine_Mediterranean        40000 non-null  int64  \n",
      " 67  Cousine_Other                40000 non-null  int64  \n",
      " 68  Ranking by city              40000 non-null  float64\n",
      " 69  Ranking by сitizens          40000 non-null  float64\n",
      " 70  Days from last comment       40000 non-null  float64\n",
      "dtypes: float64(6), int64(65)\n",
      "memory usage: 21.7 MB\n"
     ]
    }
   ],
   "source": [
    "X.info()"
   ]
  },
  {
   "cell_type": "markdown",
   "metadata": {
    "id": "5N5Mfpsg1kSy"
   },
   "source": [
    "# Разбиваем датафрейм на части, необходимые для обучения и тестирования модели"
   ]
  },
  {
   "cell_type": "code",
   "execution_count": 49,
   "metadata": {
    "id": "0iB7H0NT1kSy"
   },
   "outputs": [],
   "source": [
    "# Загружаем специальный инструмент для разбивки:\n",
    "from sklearn.model_selection import train_test_split"
   ]
  },
  {
   "cell_type": "code",
   "execution_count": 50,
   "metadata": {
    "id": "Ji7Mqdmd1kSy"
   },
   "outputs": [],
   "source": [
    "# Наборы данных с меткой \"train\" будут использоваться для обучения модели, \"test\" - для тестирования.\n",
    "# Для тестирования мы будем использовать 25% от исходного датасета.\n",
    "X_train, X_test, y_train, y_test = train_test_split(X, y, test_size=0.25)"
   ]
  },
  {
   "cell_type": "markdown",
   "metadata": {
    "id": "bpzvXlUq1kSy"
   },
   "source": [
    "# Создаём, обучаем и тестируем модель"
   ]
  },
  {
   "cell_type": "code",
   "execution_count": 51,
   "metadata": {
    "id": "saViRF9L1kSy"
   },
   "outputs": [],
   "source": [
    "# Импортируем необходимые библиотеки:\n",
    "from sklearn.ensemble import RandomForestRegressor # инструмент для создания и обучения модели\n",
    "from sklearn import metrics # инструменты для оценки точности модели"
   ]
  },
  {
   "cell_type": "code",
   "execution_count": 52,
   "metadata": {
    "id": "1DPOiNld1kSy"
   },
   "outputs": [],
   "source": [
    "# Создаём модель\n",
    "model = RandomForestRegressor(n_estimators=100)\n",
    "\n",
    "# Обучаем модель на тестовом наборе данных\n",
    "model.fit(X_train, y_train)\n",
    "\n",
    "# Используем обученную модель для предсказания рейтинга ресторанов в тестовой выборке.\n",
    "# Предсказанные значения записываем в переменную y_pred\n",
    "y_pred = model.predict(X_test)"
   ]
  },
  {
   "cell_type": "code",
   "execution_count": 53,
   "metadata": {
    "colab": {
     "base_uri": "https://localhost:8080/"
    },
    "id": "dUyzm2P01kSy",
    "outputId": "91c4ba6f-9036-49aa-8fc1-0146ded8e1dc"
   },
   "outputs": [
    {
     "name": "stdout",
     "output_type": "stream",
     "text": [
      "MAE: 0.20271399999999998\n"
     ]
    }
   ],
   "source": [
    "# Сравниваем предсказанные значения (y_pred) с реальными (y_test), и смотрим насколько они в среднем отличаются\n",
    "# Метрика называется Mean Absolute Error (MAE) и показывает среднее отклонение предсказанных значений от фактических.\n",
    "print('MAE:', metrics.mean_absolute_error(y_test, y_pred))"
   ]
  },
  {
   "cell_type": "code",
   "execution_count": 54,
   "metadata": {
    "id": "jVlVH5ZOJcde"
   },
   "outputs": [
    {
     "data": {
      "text/plain": [
       "<AxesSubplot:>"
      ]
     },
     "execution_count": 54,
     "metadata": {},
     "output_type": "execute_result"
    },
    {
     "data": {
      "image/png": "[encoded data removed]",
      "text/plain": [
       "<Figure size 720x720 with 1 Axes>"
      ]
     },
     "metadata": {
      "needs_background": "light"
     },
     "output_type": "display_data"
    }
   ],
   "source": [
    "import matplotlib.pyplot as plt\n",
    "import seaborn as sns \n",
    "%matplotlib inline\n",
    "\n",
    "\n",
    "# в RandomForestRegressor есть возможность вывести самые важные признаки для модели\n",
    "plt.rcParams['figure.figsize'] = (10,10)\n",
    "feat_importances = pd.Series(model.feature_importances_, index=X.columns)\n",
    "feat_importances.nlargest(15).plot(kind='barh')"
   ]
  },
  {
   "cell_type": "code",
   "execution_count": null,
   "metadata": {},
   "outputs": [],
   "source": []
  }
 ],
 "metadata": {
  "colab": {
   "collapsed_sections": [],
   "name": "your_first_model.ipynb",
   "provenance": [],
   "toc_visible": true
  },
  "kernelspec": {
   "display_name": "Python 3",
   "language": "python",
   "name": "python3"
  },
  "language_info": {
   "codemirror_mode": {
    "name": "ipython",
    "version": 3
   },
   "file_extension": ".py",
   "mimetype": "text/x-python",
   "name": "python",
   "nbconvert_exporter": "python",
   "pygments_lexer": "ipython3",
   "version": "3.8.5"
  }
 },
 "nbformat": 4,
 "nbformat_minor": 1
}
