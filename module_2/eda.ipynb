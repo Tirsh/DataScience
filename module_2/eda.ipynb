{
 "cells": [
  {
   "cell_type": "code",
   "execution_count": 20,
   "metadata": {
    "colab": {},
    "colab_type": "code",
    "executionInfo": {
     "elapsed": 1175,
     "status": "ok",
     "timestamp": 1600023922314,
     "user": {
      "displayName": "Valeriy Vasipov",
      "photoUrl": "https://lh3.googleusercontent.com/a-/AOh14Gh95GgJ_znU7_rwbLmzlypGNYQIe70JlkvLNP2XJA=s64",
      "userId": "03570007946212093499"
     },
     "user_tz": -180
    },
    "id": "rQ-1sZcLio-Z",
    "scrolled": true
   },
   "outputs": [],
   "source": [
    "import pandas as pd\n",
    "import matplotlib.pyplot as plt"
   ]
  },
  {
   "cell_type": "code",
   "execution_count": 21,
   "metadata": {
    "colab": {},
    "colab_type": "code",
    "executionInfo": {
     "elapsed": 1317,
     "status": "ok",
     "timestamp": 1600023926605,
     "user": {
      "displayName": "Valeriy Vasipov",
      "photoUrl": "https://lh3.googleusercontent.com/a-/AOh14Gh95GgJ_znU7_rwbLmzlypGNYQIe70JlkvLNP2XJA=s64",
      "userId": "03570007946212093499"
     },
     "user_tz": -180
    },
    "id": "FDKiYCqNjYQV"
   },
   "outputs": [],
   "source": [
    "df = pd.read_csv(\"stud_math.csv\")"
   ]
  },
  {
   "cell_type": "code",
   "execution_count": 23,
   "metadata": {
    "colab": {},
    "colab_type": "code",
    "executionInfo": {
     "elapsed": 1597,
     "status": "ok",
     "timestamp": 1600023930294,
     "user": {
      "displayName": "Valeriy Vasipov",
      "photoUrl": "https://lh3.googleusercontent.com/a-/AOh14Gh95GgJ_znU7_rwbLmzlypGNYQIe70JlkvLNP2XJA=s64",
      "userId": "03570007946212093499"
     },
     "user_tz": -180
    },
    "id": "L5RBIEx9jvsv"
   },
   "outputs": [],
   "source": [
    "columns04 = ['Medu', 'Fedu']\n",
    "columns14 = ['traveltime', 'studytime']\n",
    "columns15 = ['famrel', 'freetime', 'goout', 'health']\n",
    "\n",
    "def view_string_column(df, column):\n",
    "  if df[column].dtype == 'object':\n",
    "    display(df[column].value_counts())\n",
    "    print('{} - NaN\\n'.format(len(df[column][df[column].isna()])))\n",
    "  return None\n",
    "\n",
    "def view_numeric_column(df, column):\n",
    "  if df[column].dtype == 'float64':\n",
    "    display(df[column].value_counts())\n",
    "    print('{} - NaN\\n'.format(len(df[column][df[column].isna()])))\n",
    "  return None\n",
    "\n",
    "def draw_hist(df, column):\n",
    "  fig = plt.figure()\n",
    "  axes = fig.add_axes([0, 0, 1, 1])\n",
    "  axes.hist(df[column])\n",
    "  axes.set_title(column)\n",
    "  return None\n",
    "\n",
    "def draw_numeric_column(df, column):\n",
    "  if df[column].dtype == 'float64':\n",
    "    draw_hist(df, column)\n",
    "  return None\n",
    "\n",
    "def string_to_bool(df, column):\n",
    "  if df[column].dtype == 'object':\n",
    "    if {'yes', 'no'} == set(df[column].str.cat(sep=',').split(',')):\n",
    "      return df[column].astype(str).apply(lambda x: True if x == 'yes' else False if x == 'no' else None)\n",
    "  return df[column]  \n",
    "\n",
    "def out_values(df, column, inter='linear'):\n",
    "  iqr = df[column].quantile(0.75) - df[column].quantile(0.25)\n",
    "  perc25 = df[column].quantile(q=0.25, interpolation=inter)\n",
    "  perc75 = df[column].quantile(0.75, interpolation=inter)\n",
    "  return df[column].apply(lambda x: None if x<(perc25 - 1.5*iqr) or x>(perc75 + 1.5*iqr) else x)\n",
    "\n",
    "def out_values_range(df, column, val_range):\n",
    "  x,y = val_range\n",
    "  return df[column].apply(lambda c: c if ((c%1)==0) and (c in range(x, y)) else None)\n",
    "\n",
    "'''def out_values14(df, column):\n",
    "  return df[column].apply(lambda x: x if x in range(1,5) else None)\n",
    "\n",
    "def out_values15(df, column):\n",
    "  return df[column].apply(lambda x: x if x in range(1,6) else None)'''\n",
    "\n",
    "def fillna_median(df, column):\n",
    "  return df[column].fillna(df[column].median())"
   ]
  },
  {
   "cell_type": "code",
   "execution_count": 24,
   "metadata": {
    "colab": {
     "base_uri": "https://localhost:8080/",
     "height": 151
    },
    "colab_type": "code",
    "executionInfo": {
     "elapsed": 671,
     "status": "ok",
     "timestamp": 1599830818434,
     "user": {
      "displayName": "Valeriy Vasipov",
      "photoUrl": "https://lh3.googleusercontent.com/a-/AOh14Gh95GgJ_znU7_rwbLmzlypGNYQIe70JlkvLNP2XJA=s64",
      "userId": "03570007946212093499"
     },
     "user_tz": -180
    },
    "id": "fsBVF0rI5CvE",
    "outputId": "dfc31072-ae20-49d6-8118-fe88818c529a"
   },
   "outputs": [],
   "source": [
    "for column in df.columns:\n",
    "  df[column] = string_to_bool(df, column)"
   ]
  },
  {
   "cell_type": "code",
   "execution_count": 29,
   "metadata": {
    "colab": {
     "base_uri": "https://localhost:8080/",
     "height": 606
    },
    "colab_type": "code",
    "executionInfo": {
     "elapsed": 608,
     "status": "error",
     "timestamp": 1599831677159,
     "user": {
      "displayName": "Valeriy Vasipov",
      "photoUrl": "https://lh3.googleusercontent.com/a-/AOh14Gh95GgJ_znU7_rwbLmzlypGNYQIe70JlkvLNP2XJA=s64",
      "userId": "03570007946212093499"
     },
     "user_tz": -180
    },
    "id": "Psb2LRLWwSiu",
    "outputId": "ea8ca902-365e-4700-b966-1443fb482e2a"
   },
   "outputs": [],
   "source": [
    "for column in columns04:\n",
    "  df[column] = out_values_range(df, column, (0,5))\n",
    "for column in columns14:\n",
    "  df[column] = out_values_range(df, column, (1,5))\n",
    "for column in columns15:\n",
    "  df[column] = out_values_range(df, column, (1,6))\n",
    "df['failures'] = out_values_range(df, 'failures', (0,4))\n"
   ]
  },
  {
   "cell_type": "code",
   "execution_count": 30,
   "metadata": {
    "colab": {},
    "colab_type": "code",
    "id": "Rb4be8mO3Arx"
   },
   "outputs": [],
   "source": [
    "df['score'] = out_values(df, 'score')"
   ]
  },
  {
   "cell_type": "code",
   "execution_count": 31,
   "metadata": {
    "colab": {},
    "colab_type": "code",
    "id": "S2owwsCQ4XJM"
   },
   "outputs": [],
   "source": [
    " df['absences'] = out_values(df, 'absences', inter='midpoint')"
   ]
  },
  {
   "cell_type": "code",
   "execution_count": 32,
   "metadata": {
    "colab": {},
    "colab_type": "code",
    "collapsed": true,
    "id": "RO1qjRoV4eBu"
   },
   "outputs": [
    {
     "data": {
      "text/plain": [
       "4.0    131\n",
       "2.0    102\n",
       "3.0     97\n",
       "1.0     59\n",
       "0.0      3\n",
       "Name: Medu, dtype: int64"
      ]
     },
     "metadata": {},
     "output_type": "display_data"
    },
    {
     "name": "stdout",
     "output_type": "stream",
     "text": [
      "3 - NaN\n",
      "\n"
     ]
    },
    {
     "data": {
      "text/plain": [
       "2.0    106\n",
       "3.0     96\n",
       "4.0     88\n",
       "1.0     78\n",
       "0.0      2\n",
       "Name: Fedu, dtype: int64"
      ]
     },
     "metadata": {},
     "output_type": "display_data"
    },
    {
     "name": "stdout",
     "output_type": "stream",
     "text": [
      "25 - NaN\n",
      "\n"
     ]
    },
    {
     "data": {
      "text/plain": [
       "1.0    242\n",
       "2.0     96\n",
       "3.0     22\n",
       "4.0      7\n",
       "Name: traveltime, dtype: int64"
      ]
     },
     "metadata": {},
     "output_type": "display_data"
    },
    {
     "name": "stdout",
     "output_type": "stream",
     "text": [
      "28 - NaN\n",
      "\n"
     ]
    },
    {
     "data": {
      "text/plain": [
       "2.0    194\n",
       "1.0    103\n",
       "3.0     64\n",
       "4.0     27\n",
       "Name: studytime, dtype: int64"
      ]
     },
     "metadata": {},
     "output_type": "display_data"
    },
    {
     "name": "stdout",
     "output_type": "stream",
     "text": [
      "7 - NaN\n",
      "\n"
     ]
    },
    {
     "data": {
      "text/plain": [
       "0.0    293\n",
       "1.0     49\n",
       "2.0     16\n",
       "3.0     15\n",
       "Name: failures, dtype: int64"
      ]
     },
     "metadata": {},
     "output_type": "display_data"
    },
    {
     "name": "stdout",
     "output_type": "stream",
     "text": [
      "22 - NaN\n",
      "\n"
     ]
    },
    {
     "data": {
      "text/plain": [
       "-6.0     194\n",
       "-3.0     103\n",
       "-9.0      64\n",
       "-12.0     27\n",
       "Name: studytime, granular, dtype: int64"
      ]
     },
     "metadata": {},
     "output_type": "display_data"
    },
    {
     "name": "stdout",
     "output_type": "stream",
     "text": [
      "7 - NaN\n",
      "\n"
     ]
    },
    {
     "data": {
      "text/plain": [
       "4.0    182\n",
       "5.0     99\n",
       "3.0     62\n",
       "2.0     17\n",
       "1.0      7\n",
       "Name: famrel, dtype: int64"
      ]
     },
     "metadata": {},
     "output_type": "display_data"
    },
    {
     "name": "stdout",
     "output_type": "stream",
     "text": [
      "28 - NaN\n",
      "\n"
     ]
    },
    {
     "data": {
      "text/plain": [
       "3.0    153\n",
       "4.0    112\n",
       "2.0     63\n",
       "5.0     38\n",
       "1.0     18\n",
       "Name: freetime, dtype: int64"
      ]
     },
     "metadata": {},
     "output_type": "display_data"
    },
    {
     "name": "stdout",
     "output_type": "stream",
     "text": [
      "11 - NaN\n",
      "\n"
     ]
    },
    {
     "data": {
      "text/plain": [
       "3.0    127\n",
       "2.0    101\n",
       "4.0     84\n",
       "5.0     52\n",
       "1.0     23\n",
       "Name: goout, dtype: int64"
      ]
     },
     "metadata": {},
     "output_type": "display_data"
    },
    {
     "name": "stdout",
     "output_type": "stream",
     "text": [
      "8 - NaN\n",
      "\n"
     ]
    },
    {
     "data": {
      "text/plain": [
       "5.0    138\n",
       "3.0     89\n",
       "4.0     63\n",
       "1.0     47\n",
       "2.0     43\n",
       "Name: health, dtype: int64"
      ]
     },
     "metadata": {},
     "output_type": "display_data"
    },
    {
     "name": "stdout",
     "output_type": "stream",
     "text": [
      "15 - NaN\n",
      "\n"
     ]
    },
    {
     "data": {
      "text/plain": [
       "0.0     111\n",
       "2.0      60\n",
       "4.0      53\n",
       "6.0      31\n",
       "8.0      21\n",
       "10.0     17\n",
       "12.0     12\n",
       "14.0     12\n",
       "3.0       8\n",
       "16.0      7\n",
       "7.0       6\n",
       "5.0       5\n",
       "1.0       3\n",
       "9.0       3\n",
       "15.0      2\n",
       "13.0      2\n",
       "11.0      2\n",
       "17.0      1\n",
       "Name: absences, dtype: int64"
      ]
     },
     "metadata": {},
     "output_type": "display_data"
    },
    {
     "name": "stdout",
     "output_type": "stream",
     "text": [
      "39 - NaN\n",
      "\n"
     ]
    },
    {
     "data": {
      "text/plain": [
       "50.0     54\n",
       "55.0     46\n",
       "0.0      37\n",
       "75.0     33\n",
       "65.0     31\n",
       "40.0     31\n",
       "60.0     31\n",
       "70.0     27\n",
       "45.0     27\n",
       "80.0     16\n",
       "30.0     15\n",
       "90.0     12\n",
       "35.0      9\n",
       "25.0      7\n",
       "85.0      6\n",
       "95.0      5\n",
       "100.0     1\n",
       "20.0      1\n",
       "Name: score, dtype: int64"
      ]
     },
     "metadata": {},
     "output_type": "display_data"
    },
    {
     "name": "stdout",
     "output_type": "stream",
     "text": [
      "6 - NaN\n",
      "\n"
     ]
    }
   ],
   "source": [
    "for item in df.columns:\n",
    "  view_numeric_column(df, item)"
   ]
  },
  {
   "cell_type": "code",
   "execution_count": 33,
   "metadata": {
    "colab": {},
    "colab_type": "code",
    "id": "yVhMlJMB5et5"
   },
   "outputs": [],
   "source": [
    "df = df.loc[df.score.dropna()]"
   ]
  },
  {
   "cell_type": "code",
   "execution_count": 34,
   "metadata": {
    "colab": {},
    "colab_type": "code",
    "id": "gjY_h7gC-PtM"
   },
   "outputs": [],
   "source": [
    "for column in columns04:\n",
    "  df[column] = fillna_median(df, column)\n",
    "for column in columns14:\n",
    "  df[column] = fillna_median(df, column)\n",
    "for column in columns15:\n",
    "  df[column] = fillna_median(df, column)"
   ]
  },
  {
   "cell_type": "code",
   "execution_count": 38,
   "metadata": {
    "colab": {
     "base_uri": "https://localhost:8080/",
     "height": 218
    },
    "colab_type": "code",
    "executionInfo": {
     "elapsed": 762,
     "status": "ok",
     "timestamp": 1599828225539,
     "user": {
      "displayName": "Valeriy Vasipov",
      "photoUrl": "https://lh3.googleusercontent.com/a-/AOh14Gh95GgJ_znU7_rwbLmzlypGNYQIe70JlkvLNP2XJA=s64",
      "userId": "03570007946212093499"
     },
     "user_tz": -180
    },
    "id": "ZfFq9YeoMV4h",
    "outputId": "fee6263e-9ed3-4c94-d461-f5f1a6adcd9a"
   },
   "outputs": [],
   "source": [
    "df['absences'] = df['absences'].fillna(round(df['absences'].mean()))"
   ]
  },
  {
   "cell_type": "code",
   "execution_count": 41,
   "metadata": {
    "colab": {
     "base_uri": "https://localhost:8080/",
     "height": 438
    },
    "colab_type": "code",
    "executionInfo": {
     "elapsed": 778,
     "status": "ok",
     "timestamp": 1599831619968,
     "user": {
      "displayName": "Valeriy Vasipov",
      "photoUrl": "https://lh3.googleusercontent.com/a-/AOh14Gh95GgJ_znU7_rwbLmzlypGNYQIe70JlkvLNP2XJA=s64",
      "userId": "03570007946212093499"
     },
     "user_tz": -180
    },
    "id": "mJLLv6b7ZNmA",
    "outputId": "98fa298d-4ec2-4c30-840f-eaf0ca768bd1"
   },
   "outputs": [
    {
     "data": {
      "text/html": [
       "<div>\n",
       "<style scoped>\n",
       "    .dataframe tbody tr th:only-of-type {\n",
       "        vertical-align: middle;\n",
       "    }\n",
       "\n",
       "    .dataframe tbody tr th {\n",
       "        vertical-align: top;\n",
       "    }\n",
       "\n",
       "    .dataframe thead th {\n",
       "        text-align: right;\n",
       "    }\n",
       "</style>\n",
       "<table border=\"1\" class=\"dataframe\">\n",
       "  <thead>\n",
       "    <tr style=\"text-align: right;\">\n",
       "      <th></th>\n",
       "      <th>school</th>\n",
       "      <th>sex</th>\n",
       "      <th>age</th>\n",
       "      <th>address</th>\n",
       "      <th>famsize</th>\n",
       "      <th>Pstatus</th>\n",
       "      <th>Medu</th>\n",
       "      <th>Fedu</th>\n",
       "      <th>Mjob</th>\n",
       "      <th>Fjob</th>\n",
       "      <th>...</th>\n",
       "      <th>studytime, granular</th>\n",
       "      <th>higher</th>\n",
       "      <th>internet</th>\n",
       "      <th>romantic</th>\n",
       "      <th>famrel</th>\n",
       "      <th>freetime</th>\n",
       "      <th>goout</th>\n",
       "      <th>health</th>\n",
       "      <th>absences</th>\n",
       "      <th>score</th>\n",
       "    </tr>\n",
       "  </thead>\n",
       "  <tbody>\n",
       "    <tr>\n",
       "      <th>30.0</th>\n",
       "      <td>GP</td>\n",
       "      <td>M</td>\n",
       "      <td>15</td>\n",
       "      <td>U</td>\n",
       "      <td>GT3</td>\n",
       "      <td>T</td>\n",
       "      <td>4.0</td>\n",
       "      <td>4.0</td>\n",
       "      <td>health</td>\n",
       "      <td>services</td>\n",
       "      <td>...</td>\n",
       "      <td>-6.0</td>\n",
       "      <td>True</td>\n",
       "      <td>True</td>\n",
       "      <td>False</td>\n",
       "      <td>5.0</td>\n",
       "      <td>4.0</td>\n",
       "      <td>2.0</td>\n",
       "      <td>4.0</td>\n",
       "      <td>0.0</td>\n",
       "      <td>60.0</td>\n",
       "    </tr>\n",
       "    <tr>\n",
       "      <th>30.0</th>\n",
       "      <td>GP</td>\n",
       "      <td>M</td>\n",
       "      <td>15</td>\n",
       "      <td>U</td>\n",
       "      <td>GT3</td>\n",
       "      <td>T</td>\n",
       "      <td>4.0</td>\n",
       "      <td>4.0</td>\n",
       "      <td>health</td>\n",
       "      <td>services</td>\n",
       "      <td>...</td>\n",
       "      <td>-6.0</td>\n",
       "      <td>True</td>\n",
       "      <td>True</td>\n",
       "      <td>False</td>\n",
       "      <td>5.0</td>\n",
       "      <td>4.0</td>\n",
       "      <td>2.0</td>\n",
       "      <td>4.0</td>\n",
       "      <td>0.0</td>\n",
       "      <td>60.0</td>\n",
       "    </tr>\n",
       "    <tr>\n",
       "      <th>50.0</th>\n",
       "      <td>GP</td>\n",
       "      <td>F</td>\n",
       "      <td>16</td>\n",
       "      <td>U</td>\n",
       "      <td>LE3</td>\n",
       "      <td>T</td>\n",
       "      <td>2.0</td>\n",
       "      <td>2.0</td>\n",
       "      <td>services</td>\n",
       "      <td>services</td>\n",
       "      <td>...</td>\n",
       "      <td>-6.0</td>\n",
       "      <td>True</td>\n",
       "      <td>True</td>\n",
       "      <td>False</td>\n",
       "      <td>4.0</td>\n",
       "      <td>3.0</td>\n",
       "      <td>3.0</td>\n",
       "      <td>4.0</td>\n",
       "      <td>2.0</td>\n",
       "      <td>65.0</td>\n",
       "    </tr>\n",
       "    <tr>\n",
       "      <th>75.0</th>\n",
       "      <td>GP</td>\n",
       "      <td>M</td>\n",
       "      <td>15</td>\n",
       "      <td>NaN</td>\n",
       "      <td>GT3</td>\n",
       "      <td>T</td>\n",
       "      <td>4.0</td>\n",
       "      <td>3.0</td>\n",
       "      <td>teacher</td>\n",
       "      <td>other</td>\n",
       "      <td>...</td>\n",
       "      <td>-6.0</td>\n",
       "      <td>True</td>\n",
       "      <td>True</td>\n",
       "      <td>None</td>\n",
       "      <td>4.0</td>\n",
       "      <td>3.0</td>\n",
       "      <td>3.0</td>\n",
       "      <td>5.0</td>\n",
       "      <td>6.0</td>\n",
       "      <td>50.0</td>\n",
       "    </tr>\n",
       "    <tr>\n",
       "      <th>50.0</th>\n",
       "      <td>GP</td>\n",
       "      <td>F</td>\n",
       "      <td>16</td>\n",
       "      <td>U</td>\n",
       "      <td>LE3</td>\n",
       "      <td>T</td>\n",
       "      <td>2.0</td>\n",
       "      <td>2.0</td>\n",
       "      <td>services</td>\n",
       "      <td>services</td>\n",
       "      <td>...</td>\n",
       "      <td>-6.0</td>\n",
       "      <td>True</td>\n",
       "      <td>True</td>\n",
       "      <td>False</td>\n",
       "      <td>4.0</td>\n",
       "      <td>3.0</td>\n",
       "      <td>3.0</td>\n",
       "      <td>4.0</td>\n",
       "      <td>2.0</td>\n",
       "      <td>65.0</td>\n",
       "    </tr>\n",
       "    <tr>\n",
       "      <th>...</th>\n",
       "      <td>...</td>\n",
       "      <td>...</td>\n",
       "      <td>...</td>\n",
       "      <td>...</td>\n",
       "      <td>...</td>\n",
       "      <td>...</td>\n",
       "      <td>...</td>\n",
       "      <td>...</td>\n",
       "      <td>...</td>\n",
       "      <td>...</td>\n",
       "      <td>...</td>\n",
       "      <td>...</td>\n",
       "      <td>...</td>\n",
       "      <td>...</td>\n",
       "      <td>...</td>\n",
       "      <td>...</td>\n",
       "      <td>...</td>\n",
       "      <td>...</td>\n",
       "      <td>...</td>\n",
       "      <td>...</td>\n",
       "      <td>...</td>\n",
       "    </tr>\n",
       "    <tr>\n",
       "      <th>45.0</th>\n",
       "      <td>GP</td>\n",
       "      <td>F</td>\n",
       "      <td>15</td>\n",
       "      <td>U</td>\n",
       "      <td>LE3</td>\n",
       "      <td>A</td>\n",
       "      <td>4.0</td>\n",
       "      <td>3.0</td>\n",
       "      <td>other</td>\n",
       "      <td>other</td>\n",
       "      <td>...</td>\n",
       "      <td>-6.0</td>\n",
       "      <td>True</td>\n",
       "      <td>True</td>\n",
       "      <td>True</td>\n",
       "      <td>5.0</td>\n",
       "      <td>2.0</td>\n",
       "      <td>2.0</td>\n",
       "      <td>5.0</td>\n",
       "      <td>8.0</td>\n",
       "      <td>30.0</td>\n",
       "    </tr>\n",
       "    <tr>\n",
       "      <th>80.0</th>\n",
       "      <td>GP</td>\n",
       "      <td>M</td>\n",
       "      <td>15</td>\n",
       "      <td>U</td>\n",
       "      <td>GT3</td>\n",
       "      <td>T</td>\n",
       "      <td>2.0</td>\n",
       "      <td>3.0</td>\n",
       "      <td>other</td>\n",
       "      <td>services</td>\n",
       "      <td>...</td>\n",
       "      <td>-3.0</td>\n",
       "      <td>True</td>\n",
       "      <td>None</td>\n",
       "      <td>True</td>\n",
       "      <td>3.0</td>\n",
       "      <td>2.0</td>\n",
       "      <td>2.0</td>\n",
       "      <td>3.0</td>\n",
       "      <td>2.0</td>\n",
       "      <td>60.0</td>\n",
       "    </tr>\n",
       "    <tr>\n",
       "      <th>35.0</th>\n",
       "      <td>GP</td>\n",
       "      <td>F</td>\n",
       "      <td>15</td>\n",
       "      <td>U</td>\n",
       "      <td>GT3</td>\n",
       "      <td>T</td>\n",
       "      <td>2.0</td>\n",
       "      <td>3.0</td>\n",
       "      <td>other</td>\n",
       "      <td>other</td>\n",
       "      <td>...</td>\n",
       "      <td>-3.0</td>\n",
       "      <td>True</td>\n",
       "      <td>False</td>\n",
       "      <td>False</td>\n",
       "      <td>3.0</td>\n",
       "      <td>5.0</td>\n",
       "      <td>1.0</td>\n",
       "      <td>5.0</td>\n",
       "      <td>0.0</td>\n",
       "      <td>30.0</td>\n",
       "    </tr>\n",
       "    <tr>\n",
       "      <th>50.0</th>\n",
       "      <td>GP</td>\n",
       "      <td>F</td>\n",
       "      <td>16</td>\n",
       "      <td>U</td>\n",
       "      <td>LE3</td>\n",
       "      <td>T</td>\n",
       "      <td>2.0</td>\n",
       "      <td>2.0</td>\n",
       "      <td>services</td>\n",
       "      <td>services</td>\n",
       "      <td>...</td>\n",
       "      <td>-6.0</td>\n",
       "      <td>True</td>\n",
       "      <td>True</td>\n",
       "      <td>False</td>\n",
       "      <td>4.0</td>\n",
       "      <td>3.0</td>\n",
       "      <td>3.0</td>\n",
       "      <td>4.0</td>\n",
       "      <td>2.0</td>\n",
       "      <td>65.0</td>\n",
       "    </tr>\n",
       "    <tr>\n",
       "      <th>45.0</th>\n",
       "      <td>GP</td>\n",
       "      <td>F</td>\n",
       "      <td>15</td>\n",
       "      <td>U</td>\n",
       "      <td>LE3</td>\n",
       "      <td>A</td>\n",
       "      <td>4.0</td>\n",
       "      <td>3.0</td>\n",
       "      <td>other</td>\n",
       "      <td>other</td>\n",
       "      <td>...</td>\n",
       "      <td>-6.0</td>\n",
       "      <td>True</td>\n",
       "      <td>True</td>\n",
       "      <td>True</td>\n",
       "      <td>5.0</td>\n",
       "      <td>2.0</td>\n",
       "      <td>2.0</td>\n",
       "      <td>5.0</td>\n",
       "      <td>8.0</td>\n",
       "      <td>30.0</td>\n",
       "    </tr>\n",
       "  </tbody>\n",
       "</table>\n",
       "<p>389 rows × 30 columns</p>\n",
       "</div>"
      ],
      "text/plain": [
       "     school sex  age address famsize Pstatus  Medu  Fedu      Mjob      Fjob  \\\n",
       "30.0     GP   M   15       U     GT3       T   4.0   4.0    health  services   \n",
       "30.0     GP   M   15       U     GT3       T   4.0   4.0    health  services   \n",
       "50.0     GP   F   16       U     LE3       T   2.0   2.0  services  services   \n",
       "75.0     GP   M   15     NaN     GT3       T   4.0   3.0   teacher     other   \n",
       "50.0     GP   F   16       U     LE3       T   2.0   2.0  services  services   \n",
       "...     ...  ..  ...     ...     ...     ...   ...   ...       ...       ...   \n",
       "45.0     GP   F   15       U     LE3       A   4.0   3.0     other     other   \n",
       "80.0     GP   M   15       U     GT3       T   2.0   3.0     other  services   \n",
       "35.0     GP   F   15       U     GT3       T   2.0   3.0     other     other   \n",
       "50.0     GP   F   16       U     LE3       T   2.0   2.0  services  services   \n",
       "45.0     GP   F   15       U     LE3       A   4.0   3.0     other     other   \n",
       "\n",
       "      ... studytime, granular higher  internet  romantic  famrel freetime  \\\n",
       "30.0  ...                -6.0   True      True     False     5.0      4.0   \n",
       "30.0  ...                -6.0   True      True     False     5.0      4.0   \n",
       "50.0  ...                -6.0   True      True     False     4.0      3.0   \n",
       "75.0  ...                -6.0   True      True      None     4.0      3.0   \n",
       "50.0  ...                -6.0   True      True     False     4.0      3.0   \n",
       "...   ...                 ...    ...       ...       ...     ...      ...   \n",
       "45.0  ...                -6.0   True      True      True     5.0      2.0   \n",
       "80.0  ...                -3.0   True      None      True     3.0      2.0   \n",
       "35.0  ...                -3.0   True     False     False     3.0      5.0   \n",
       "50.0  ...                -6.0   True      True     False     4.0      3.0   \n",
       "45.0  ...                -6.0   True      True      True     5.0      2.0   \n",
       "\n",
       "     goout health absences score  \n",
       "30.0   2.0    4.0      0.0  60.0  \n",
       "30.0   2.0    4.0      0.0  60.0  \n",
       "50.0   3.0    4.0      2.0  65.0  \n",
       "75.0   3.0    5.0      6.0  50.0  \n",
       "50.0   3.0    4.0      2.0  65.0  \n",
       "...    ...    ...      ...   ...  \n",
       "45.0   2.0    5.0      8.0  30.0  \n",
       "80.0   2.0    3.0      2.0  60.0  \n",
       "35.0   1.0    5.0      0.0  30.0  \n",
       "50.0   3.0    4.0      2.0  65.0  \n",
       "45.0   2.0    5.0      8.0  30.0  \n",
       "\n",
       "[389 rows x 30 columns]"
      ]
     },
     "execution_count": 41,
     "metadata": {},
     "output_type": "execute_result"
    }
   ],
   "source": [
    "df"
   ]
  },
  {
   "cell_type": "code",
   "execution_count": null,
   "metadata": {
    "colab": {},
    "colab_type": "code",
    "id": "B7GhBkSVZTW9"
   },
   "outputs": [],
   "source": []
  }
 ],
 "metadata": {
  "colab": {
   "authorship_tag": "ABX9TyPnDM3XQnvEk0N2LHQmqCkB",
   "collapsed_sections": [],
   "name": "Untitled2.ipynb",
   "provenance": []
  },
  "kernelspec": {
   "display_name": "Python 3",
   "language": "python",
   "name": "python3"
  },
  "language_info": {
   "codemirror_mode": {
    "name": "ipython",
    "version": 3
   },
   "file_extension": ".py",
   "mimetype": "text/x-python",
   "name": "python",
   "nbconvert_exporter": "python",
   "pygments_lexer": "ipython3",
   "version": "3.8.5"
  }
 },
 "nbformat": 4,
 "nbformat_minor": 1
}
