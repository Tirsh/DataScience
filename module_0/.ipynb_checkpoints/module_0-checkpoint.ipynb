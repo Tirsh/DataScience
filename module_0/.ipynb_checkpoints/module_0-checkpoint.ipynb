{
 "cells": [
  {
   "cell_type": "code",
   "execution_count": 1,
   "metadata": {
    "colab": {},
    "colab_type": "code",
    "executionInfo": {
     "elapsed": 612,
     "status": "ok",
     "timestamp": 1596462606792,
     "user": {
      "displayName": "Valeriy Vasipov",
      "photoUrl": "https://lh3.googleusercontent.com/a-/AOh14Gh95GgJ_znU7_rwbLmzlypGNYQIe70JlkvLNP2XJA=s64",
      "userId": "03570007946212093499"
     },
     "user_tz": -180
    },
    "id": "T-edbElOQdw-"
   },
   "outputs": [],
   "source": [
    "import numpy as np"
   ]
  },
  {
   "cell_type": "code",
   "execution_count": 2,
   "metadata": {
    "colab": {},
    "colab_type": "code",
    "executionInfo": {
     "elapsed": 606,
     "status": "ok",
     "timestamp": 1596462608864,
     "user": {
      "displayName": "Valeriy Vasipov",
      "photoUrl": "https://lh3.googleusercontent.com/a-/AOh14Gh95GgJ_znU7_rwbLmzlypGNYQIe70JlkvLNP2XJA=s64",
      "userId": "03570007946212093499"
     },
     "user_tz": -180
    },
    "id": "Ck8VEnIzQMU2"
   },
   "outputs": [],
   "source": [
    "def score_game(game_core):\n",
    "    '''Запускаем игру 1000 раз, чтобы узнать, как быстро игра угадывает число'''\n",
    "    count_ls = []\n",
    "    np.random.seed(1)  # фиксируем RANDOM SEED, чтобы ваш эксперимент был воспроизводим!\n",
    "    random_array = np.random.randint(1,101, size=(1000))\n",
    "    for number in random_array:\n",
    "        count_ls.append(game_core(number))\n",
    "    score = int(np.mean(count_ls))\n",
    "    print(f\"Ваш алгоритм угадывает число в среднем за {score} попыток\")\n",
    "    return score"
   ]
  },
  {
   "cell_type": "code",
   "execution_count": 3,
   "metadata": {
    "colab": {},
    "colab_type": "code",
    "executionInfo": {
     "elapsed": 509,
     "status": "ok",
     "timestamp": 1596457128858,
     "user": {
      "displayName": "Valeriy Vasipov",
      "photoUrl": "https://lh3.googleusercontent.com/a-/AOh14Gh95GgJ_znU7_rwbLmzlypGNYQIe70JlkvLNP2XJA=s64",
      "userId": "03570007946212093499"
     },
     "user_tz": -180
    },
    "id": "t-jsz70dQT9m"
   },
   "outputs": [],
   "source": [
    "def game_core_v1(number):\n",
    "    '''Просто угадываем на random, никак не используя информацию о больше или меньше.\n",
    "       Функция принимает загаданное число и возвращает число попыток'''\n",
    "    count = 0\n",
    "    while True:\n",
    "        count+=1\n",
    "        predict = np.random.randint(1,101) # предполагаемое число\n",
    "        if number == predict: \n",
    "            return count # выход из цикла, если угадали"
   ]
  },
  {
   "cell_type": "code",
   "execution_count": 4,
   "metadata": {
    "colab": {},
    "colab_type": "code",
    "executionInfo": {
     "elapsed": 656,
     "status": "ok",
     "timestamp": 1596458794600,
     "user": {
      "displayName": "Valeriy Vasipov",
      "photoUrl": "https://lh3.googleusercontent.com/a-/AOh14Gh95GgJ_znU7_rwbLmzlypGNYQIe70JlkvLNP2XJA=s64",
      "userId": "03570007946212093499"
     },
     "user_tz": -180
    },
    "id": "019cJjeKQm_0"
   },
   "outputs": [],
   "source": [
    "def game_core_v2(number):\n",
    "    '''Сначала устанавливаем любое random число, а потом уменьшаем или увеличиваем его в зависимости от того, больше оно или меньше нужного.\n",
    "       Функция принимает загаданное число и возвращает число попыток'''\n",
    "    count = 1\n",
    "    predict = np.random.randint(1,101)\n",
    "    while number != predict:\n",
    "        count+=1\n",
    "        if number > predict: \n",
    "            predict += 1\n",
    "        elif number < predict: \n",
    "            predict -= 1\n",
    "    return count # выход из цикла, если угадали"
   ]
  },
  {
   "cell_type": "code",
   "execution_count": 5,
   "metadata": {
    "colab": {
     "base_uri": "https://localhost:8080/",
     "height": 50
    },
    "colab_type": "code",
    "executionInfo": {
     "elapsed": 589,
     "status": "ok",
     "timestamp": 1596458796503,
     "user": {
      "displayName": "Valeriy Vasipov",
      "photoUrl": "https://lh3.googleusercontent.com/a-/AOh14Gh95GgJ_znU7_rwbLmzlypGNYQIe70JlkvLNP2XJA=s64",
      "userId": "03570007946212093499"
     },
     "user_tz": -180
    },
    "id": "TfCu4aBNQqId",
    "outputId": "c5dbf91a-55cb-4722-9df6-8362a64cc602"
   },
   "outputs": [
    {
     "name": "stdout",
     "output_type": "stream",
     "text": [
      "Ваш алгоритм угадывает число в среднем за 33 попыток\n"
     ]
    },
    {
     "data": {
      "text/plain": [
       "33"
      ]
     },
     "execution_count": 5,
     "metadata": {},
     "output_type": "execute_result"
    }
   ],
   "source": [
    "score_game(game_core_v2)"
   ]
  },
  {
   "cell_type": "code",
   "execution_count": 6,
   "metadata": {},
   "outputs": [],
   "source": [
    "def game_core_v3(number):\n",
    "    \"\"\"Устанавливаем любое random число, потом после каждого сравнения\n",
    "    обновляем диапозон и ищем новое random число в новом диапозоне,\n",
    "    Функция принимает число и возвращает колличество затраченых попыток\"\"\"\n",
    "    count = 1\n",
    "    up = 101 #нижняя граница диапозона\n",
    "    down = 1 #верхняя граница диапозона\n",
    "    predict = np.random.randint(1,101)\n",
    "    \n",
    "    while number != predict:\n",
    "      count += 1\n",
    "      if number > predict:\n",
    "        down = predict + 1\n",
    "        predict = np.random.randint(down, up)\n",
    "      else:\n",
    "        up = predict\n",
    "        predict = np.random.randint(down, up)\n",
    "    return (count)"
   ]
  },
  {
   "cell_type": "code",
   "execution_count": 7,
   "metadata": {},
   "outputs": [
    {
     "name": "stdout",
     "output_type": "stream",
     "text": [
      "Ваш алгоритм угадывает число в среднем за 7 попыток\n"
     ]
    },
    {
     "data": {
      "text/plain": [
       "7"
      ]
     },
     "execution_count": 7,
     "metadata": {},
     "output_type": "execute_result"
    }
   ],
   "source": [
    "score_game(game_core_v3)"
   ]
  },
  {
   "cell_type": "code",
   "execution_count": 14,
   "metadata": {},
   "outputs": [],
   "source": [
    "def game_core_v4(number):\n",
    "    \"\"\"Устанавливаем любое random число, потом после каждого сравнения обновляем диапозон \n",
    "      и вычисляем новое значение переой predict, как средние значение в оставшемся диапозоне.\n",
    "        Функция принимает число и возвращает колличество затраченых попыток\"\"\"\n",
    "    count = 1\n",
    "    up = 101 #нижняя граница диапозона\n",
    "    down = 0 #верхняя граница диапозона\n",
    "    predict = np.random.randint(1,101)\n",
    "    while number != predict:\n",
    "        count += 1\n",
    "        if number > predict:\n",
    "            down = predict\n",
    "        else:\n",
    "            up = predict\n",
    "        predict = (up-down)//2 + down #вычисляем средние значение в оставшемя диапозоне\n",
    "    return count"
   ]
  },
  {
   "cell_type": "code",
   "execution_count": 15,
   "metadata": {},
   "outputs": [
    {
     "name": "stdout",
     "output_type": "stream",
     "text": [
      "Ваш алгоритм угадывает число в среднем за 6 попыток\n"
     ]
    },
    {
     "data": {
      "text/plain": [
       "6"
      ]
     },
     "execution_count": 15,
     "metadata": {},
     "output_type": "execute_result"
    }
   ],
   "source": [
    "score_game(game_core_v4)"
   ]
  },
  {
   "cell_type": "code",
   "execution_count": null,
   "metadata": {},
   "outputs": [],
   "source": []
  }
 ],
 "metadata": {
  "colab": {
   "authorship_tag": "ABX9TyNg+y86el0xoASfX8hp5pEt",
   "collapsed_sections": [],
   "name": "module_0.ipynb",
   "provenance": []
  },
  "kernelspec": {
   "display_name": "Python 3",
   "language": "python",
   "name": "python3"
  },
  "language_info": {
   "codemirror_mode": {
    "name": "ipython",
    "version": 3
   },
   "file_extension": ".py",
   "mimetype": "text/x-python",
   "name": "python",
   "nbconvert_exporter": "python",
   "pygments_lexer": "ipython3",
   "version": "3.8.3"
  }
 },
 "nbformat": 4,
 "nbformat_minor": 1
}
