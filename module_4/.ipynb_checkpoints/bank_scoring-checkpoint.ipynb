{
 "cells": [
  {
   "cell_type": "code",
   "execution_count": 10,
   "id": "russian-court",
   "metadata": {},
   "outputs": [],
   "source": [
    "#import libraries\n",
    "import pandas as pd \n",
    "import matplotlib.pyplot as plt\n",
    "import seaborn as sns"
   ]
  },
  {
   "cell_type": "code",
   "execution_count": 7,
   "id": "upset-africa",
   "metadata": {},
   "outputs": [
    {
     "name": "stdout",
     "output_type": "stream",
     "text": [
      "<class 'pandas.core.frame.DataFrame'>\n",
      "RangeIndex: 73799 entries, 0 to 73798\n",
      "Data columns (total 14 columns):\n",
      " #   Column            Non-Null Count  Dtype \n",
      "---  ------            --------------  ----- \n",
      " 0   client_id         73799 non-null  int64 \n",
      " 1   education         73492 non-null  object\n",
      " 2   sex               73799 non-null  object\n",
      " 3   age               73799 non-null  int64 \n",
      " 4   car               73799 non-null  object\n",
      " 5   car_type          73799 non-null  object\n",
      " 6   decline_app_cnt   73799 non-null  int64 \n",
      " 7   good_work         73799 non-null  int64 \n",
      " 8   bki_request_cnt   73799 non-null  int64 \n",
      " 9   home_address      73799 non-null  int64 \n",
      " 10  work_address      73799 non-null  int64 \n",
      " 11  income            73799 non-null  int64 \n",
      " 12  foreign_passport  73799 non-null  object\n",
      " 13  default           73799 non-null  int64 \n",
      "dtypes: int64(9), object(5)\n",
      "memory usage: 7.9+ MB\n"
     ]
    }
   ],
   "source": [
    "#Loading data\n",
    "data = pd.read_csv('train-1.csv')\n",
    "data.info()"
   ]
  },
  {
   "cell_type": "markdown",
   "id": "vocal-parcel",
   "metadata": {},
   "source": [
    "<p>client_id - идентификатор клиента\n",
    "<p>education - уровень образования\n",
    "<p>sex - пол заёмщика\n",
    "<p>age - возраст заёмщика\n",
    "<p>car - флаг наличия автомобиля\n",
    "<p>car_type - флаг автомобиля-иномарки\n",
    "<p>decline_app_cnt - количество отказанных прошлых заявок\n",
    "<p>good_work - флаг наличия «хорошей» работы\n",
    "<p>bki_request_cnt - количество запросов в БКИ\n",
    "<p>home_address - категоризатор домашнего адреса\n",
    "<p>work_address - категоризатор рабочего адреса\n",
    "<p>income - доход заёмщика\n",
    "<p>foreign_passport - наличие загранпаспорта\n",
    "<p>default - наличие дефолта"
   ]
  },
  {
   "cell_type": "code",
   "execution_count": 11,
   "id": "distributed-township",
   "metadata": {},
   "outputs": [
    {
     "data": {
      "text/plain": [
       "<AxesSubplot:xlabel='default', ylabel='count'>"
      ]
     },
     "execution_count": 11,
     "metadata": {},
     "output_type": "execute_result"
    },
    {
     "data": {
      "image/png": "[encoded data removed]",
      "text/plain": [
       "<Figure size 432x288 with 1 Axes>"
      ]
     },
     "metadata": {
      "needs_background": "light"
     },
     "output_type": "display_data"
    }
   ],
   "source": [
    "sns.countplot(x='default', data=data)"
   ]
  },
  {
   "cell_type": "code",
   "execution_count": 19,
   "id": "unique-perception",
   "metadata": {},
   "outputs": [
    {
     "data": {
      "text/plain": [
       "<AxesSubplot:>"
      ]
     },
     "execution_count": 19,
     "metadata": {},
     "output_type": "execute_result"
    },
    {
     "data": {
      "image/png": "[encoded data removed]",
      "text/plain": [
       "<Figure size 432x288 with 1 Axes>"
      ]
     },
     "metadata": {
      "needs_background": "light"
     },
     "output_type": "display_data"
    }
   ],
   "source": [
    "data['education'].value_counts().plot.barh()"
   ]
  },
  {
   "cell_type": "code",
   "execution_count": 26,
   "id": "blond-nightmare",
   "metadata": {},
   "outputs": [],
   "source": [
    "#Filling none values with the most common values\n",
    "data['education'].fillna(data['education'].value_counts().index[0], inplace=True)"
   ]
  },
  {
   "cell_type": "code",
   "execution_count": 36,
   "id": "instant-maldives",
   "metadata": {},
   "outputs": [],
   "source": [
    "#Types of values\n",
    "#Binary values\n",
    "bin_cols = ['sex', 'car', 'car_type', 'foreign_passport', 'good_work']\n",
    "#Categorial values\n",
    "cat_cals = ['education', 'home_address', 'work_address']\n",
    "#Numeratic values\n",
    "num_cals = ['age', 'decline_app_cnt', 'income', 'bki_request_cnt']"
   ]
  },
  {
   "cell_type": "code",
   "execution_count": null,
   "id": "enormous-maine",
   "metadata": {},
   "outputs": [],
   "source": []
  }
 ],
 "metadata": {
  "kernelspec": {
   "display_name": "Python 3",
   "language": "python",
   "name": "python3"
  },
  "language_info": {
   "codemirror_mode": {
    "name": "ipython",
    "version": 3
   },
   "file_extension": ".py",
   "mimetype": "text/x-python",
   "name": "python",
   "nbconvert_exporter": "python",
   "pygments_lexer": "ipython3",
   "version": "3.8.5"
  }
 },
 "nbformat": 4,
 "nbformat_minor": 5
}
