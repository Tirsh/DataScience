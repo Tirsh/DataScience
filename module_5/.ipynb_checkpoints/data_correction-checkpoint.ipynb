{
 "cells": [
  {
   "cell_type": "code",
   "execution_count": 74,
   "id": "controversial-robertson",
   "metadata": {},
   "outputs": [],
   "source": [
    "import pandas as pd\n",
    "import json\n",
    "import csv\n",
    "import pandas_profiling as pp"
   ]
  },
  {
   "cell_type": "code",
   "execution_count": 75,
   "id": "nonprofit-netherlands",
   "metadata": {},
   "outputs": [],
   "source": [
    "#Загрузка датасетов\n",
    "df = pd.read_csv('data/data.csv')\n",
    "test = pd.read_csv('data/test.csv')"
   ]
  },
  {
   "cell_type": "markdown",
   "id": "statutory-pastor",
   "metadata": {},
   "source": [
    "Обзор данных"
   ]
  },
  {
   "cell_type": "code",
   "execution_count": 54,
   "id": "diagnostic-subsection",
   "metadata": {},
   "outputs": [
    {
     "data": {
      "text/html": [
       "<div>\n",
       "<style scoped>\n",
       "    .dataframe tbody tr th:only-of-type {\n",
       "        vertical-align: middle;\n",
       "    }\n",
       "\n",
       "    .dataframe tbody tr th {\n",
       "        vertical-align: top;\n",
       "    }\n",
       "\n",
       "    .dataframe thead th {\n",
       "        text-align: right;\n",
       "    }\n",
       "</style>\n",
       "<table border=\"1\" class=\"dataframe\">\n",
       "  <thead>\n",
       "    <tr style=\"text-align: right;\">\n",
       "      <th></th>\n",
       "      <th>bodyType</th>\n",
       "      <th>brand</th>\n",
       "      <th>car_url</th>\n",
       "      <th>color</th>\n",
       "      <th>options</th>\n",
       "      <th>description</th>\n",
       "      <th>engineDisplacement</th>\n",
       "      <th>enginePower</th>\n",
       "      <th>fuelType</th>\n",
       "      <th>mileage</th>\n",
       "      <th>model_name</th>\n",
       "      <th>name</th>\n",
       "      <th>productionDate</th>\n",
       "      <th>vehicleTransmission</th>\n",
       "      <th>owners</th>\n",
       "      <th>pts</th>\n",
       "      <th>own</th>\n",
       "      <th>drive</th>\n",
       "      <th>wheel</th>\n",
       "      <th>price</th>\n",
       "    </tr>\n",
       "  </thead>\n",
       "  <tbody>\n",
       "    <tr>\n",
       "      <th>0</th>\n",
       "      <td>седан</td>\n",
       "      <td>VOLKSWAGEN</td>\n",
       "      <td>https://auto.ru/cars/used/sale/volkswagen/pass...</td>\n",
       "      <td>серебристый</td>\n",
       "      <td>{'Комфорт': ['Круиз-контроль', 'Электростеклоп...</td>\n",
       "      <td>5 ПРИЧИН ПОКУПКИ ИМЕННО ЭТОГО АВТОМОБИЛЯ:✅ Мак...</td>\n",
       "      <td>2.0</td>\n",
       "      <td>200</td>\n",
       "      <td>Бензин</td>\n",
       "      <td>141000</td>\n",
       "      <td>passat_cc</td>\n",
       "      <td>2.0 AT (200 л.с.)</td>\n",
       "      <td>2008</td>\n",
       "      <td>автоматическая</td>\n",
       "      <td>3 или более</td>\n",
       "      <td>Оригинал</td>\n",
       "      <td>8 лет и 3 месяца</td>\n",
       "      <td>передний</td>\n",
       "      <td>Левый</td>\n",
       "      <td>630000</td>\n",
       "    </tr>\n",
       "    <tr>\n",
       "      <th>1</th>\n",
       "      <td>хэтчбек 3 дв.</td>\n",
       "      <td>VOLKSWAGEN</td>\n",
       "      <td>https://auto.ru/cars/used/sale/volkswagen/fox/...</td>\n",
       "      <td>синий</td>\n",
       "      <td>{}</td>\n",
       "      <td>Чистый немец. Ввезен в РФ в декабре 2010 года....</td>\n",
       "      <td>1.4</td>\n",
       "      <td>70</td>\n",
       "      <td>Дизель</td>\n",
       "      <td>220000</td>\n",
       "      <td>fox</td>\n",
       "      <td>1.4d MT (70 л.с.)</td>\n",
       "      <td>2007</td>\n",
       "      <td>механическая</td>\n",
       "      <td>3 или более</td>\n",
       "      <td>Оригинал</td>\n",
       "      <td>NaN</td>\n",
       "      <td>передний</td>\n",
       "      <td>Левый</td>\n",
       "      <td>265000</td>\n",
       "    </tr>\n",
       "    <tr>\n",
       "      <th>2</th>\n",
       "      <td>хэтчбек 5 дв.</td>\n",
       "      <td>VOLKSWAGEN</td>\n",
       "      <td>https://auto.ru/cars/used/sale/volkswagen/golf...</td>\n",
       "      <td>синий</td>\n",
       "      <td>{'Безопасность': ['Система стабилизации (ESP)'...</td>\n",
       "      <td>Учетный № 5064360Место осмотра автомобиля уточ...</td>\n",
       "      <td>1.6</td>\n",
       "      <td>102</td>\n",
       "      <td>Бензин</td>\n",
       "      <td>243499</td>\n",
       "      <td>golf_plus</td>\n",
       "      <td>1.6 MT (102 л.с.)</td>\n",
       "      <td>2007</td>\n",
       "      <td>механическая</td>\n",
       "      <td>3 или более</td>\n",
       "      <td>Оригинал</td>\n",
       "      <td>NaN</td>\n",
       "      <td>передний</td>\n",
       "      <td>Левый</td>\n",
       "      <td>380000</td>\n",
       "    </tr>\n",
       "  </tbody>\n",
       "</table>\n",
       "</div>"
      ],
      "text/plain": [
       "        bodyType       brand  \\\n",
       "0          седан  VOLKSWAGEN   \n",
       "1  хэтчбек 3 дв.  VOLKSWAGEN   \n",
       "2  хэтчбек 5 дв.  VOLKSWAGEN   \n",
       "\n",
       "                                             car_url        color  \\\n",
       "0  https://auto.ru/cars/used/sale/volkswagen/pass...  серебристый   \n",
       "1  https://auto.ru/cars/used/sale/volkswagen/fox/...        синий   \n",
       "2  https://auto.ru/cars/used/sale/volkswagen/golf...        синий   \n",
       "\n",
       "                                             options  \\\n",
       "0  {'Комфорт': ['Круиз-контроль', 'Электростеклоп...   \n",
       "1                                                 {}   \n",
       "2  {'Безопасность': ['Система стабилизации (ESP)'...   \n",
       "\n",
       "                                         description  engineDisplacement  \\\n",
       "0  5 ПРИЧИН ПОКУПКИ ИМЕННО ЭТОГО АВТОМОБИЛЯ:✅ Мак...                 2.0   \n",
       "1  Чистый немец. Ввезен в РФ в декабре 2010 года....                 1.4   \n",
       "2  Учетный № 5064360Место осмотра автомобиля уточ...                 1.6   \n",
       "\n",
       "   enginePower fuelType  mileage model_name                name  \\\n",
       "0          200   Бензин   141000  passat_cc  2.0 AT (200 л.с.)    \n",
       "1           70   Дизель   220000        fox  1.4d MT (70 л.с.)    \n",
       "2          102   Бензин   243499  golf_plus  1.6 MT (102 л.с.)    \n",
       "\n",
       "   productionDate vehicleTransmission       owners       pts  \\\n",
       "0            2008      автоматическая  3 или более  Оригинал   \n",
       "1            2007        механическая  3 или более  Оригинал   \n",
       "2            2007        механическая  3 или более  Оригинал   \n",
       "\n",
       "                own     drive  wheel   price  \n",
       "0  8 лет и 3 месяца  передний  Левый  630000  \n",
       "1               NaN  передний  Левый  265000  \n",
       "2               NaN  передний  Левый  380000  "
      ]
     },
     "execution_count": 54,
     "metadata": {},
     "output_type": "execute_result"
    }
   ],
   "source": [
    "df.head(3)"
   ]
  },
  {
   "cell_type": "code",
   "execution_count": 55,
   "id": "collective-rebel",
   "metadata": {},
   "outputs": [
    {
     "data": {
      "text/html": [
       "<div>\n",
       "<style scoped>\n",
       "    .dataframe tbody tr th:only-of-type {\n",
       "        vertical-align: middle;\n",
       "    }\n",
       "\n",
       "    .dataframe tbody tr th {\n",
       "        vertical-align: top;\n",
       "    }\n",
       "\n",
       "    .dataframe thead th {\n",
       "        text-align: right;\n",
       "    }\n",
       "</style>\n",
       "<table border=\"1\" class=\"dataframe\">\n",
       "  <thead>\n",
       "    <tr style=\"text-align: right;\">\n",
       "      <th></th>\n",
       "      <th>bodyType</th>\n",
       "      <th>brand</th>\n",
       "      <th>car_url</th>\n",
       "      <th>color</th>\n",
       "      <th>complectation_dict</th>\n",
       "      <th>description</th>\n",
       "      <th>engineDisplacement</th>\n",
       "      <th>enginePower</th>\n",
       "      <th>equipment_dict</th>\n",
       "      <th>fuelType</th>\n",
       "      <th>...</th>\n",
       "      <th>vehicleConfiguration</th>\n",
       "      <th>vehicleTransmission</th>\n",
       "      <th>vendor</th>\n",
       "      <th>Владельцы</th>\n",
       "      <th>Владение</th>\n",
       "      <th>ПТС</th>\n",
       "      <th>Привод</th>\n",
       "      <th>Руль</th>\n",
       "      <th>Состояние</th>\n",
       "      <th>Таможня</th>\n",
       "    </tr>\n",
       "  </thead>\n",
       "  <tbody>\n",
       "    <tr>\n",
       "      <th>0</th>\n",
       "      <td>лифтбек</td>\n",
       "      <td>SKODA</td>\n",
       "      <td>https://auto.ru/cars/used/sale/skoda/octavia/1...</td>\n",
       "      <td>синий</td>\n",
       "      <td>NaN</td>\n",
       "      <td>Все автомобили, представленные в продаже, прох...</td>\n",
       "      <td>1.2 LTR</td>\n",
       "      <td>105 N12</td>\n",
       "      <td>{\"engine-proof\":true,\"tinted-glass\":true,\"airb...</td>\n",
       "      <td>бензин</td>\n",
       "      <td>...</td>\n",
       "      <td>LIFTBACK ROBOT 1.2</td>\n",
       "      <td>роботизированная</td>\n",
       "      <td>EUROPEAN</td>\n",
       "      <td>3 или более</td>\n",
       "      <td>NaN</td>\n",
       "      <td>Оригинал</td>\n",
       "      <td>передний</td>\n",
       "      <td>Левый</td>\n",
       "      <td>Не требует ремонта</td>\n",
       "      <td>Растаможен</td>\n",
       "    </tr>\n",
       "    <tr>\n",
       "      <th>1</th>\n",
       "      <td>лифтбек</td>\n",
       "      <td>SKODA</td>\n",
       "      <td>https://auto.ru/cars/used/sale/skoda/octavia/1...</td>\n",
       "      <td>чёрный</td>\n",
       "      <td>NaN</td>\n",
       "      <td>ЛОТ: 01217195\\nАвтопрага Север\\nДанный автомоб...</td>\n",
       "      <td>1.6 LTR</td>\n",
       "      <td>110 N12</td>\n",
       "      <td>{\"cruise-control\":true,\"asr\":true,\"esp\":true,\"...</td>\n",
       "      <td>бензин</td>\n",
       "      <td>...</td>\n",
       "      <td>LIFTBACK MECHANICAL 1.6</td>\n",
       "      <td>механическая</td>\n",
       "      <td>EUROPEAN</td>\n",
       "      <td>1 владелец</td>\n",
       "      <td>NaN</td>\n",
       "      <td>Оригинал</td>\n",
       "      <td>передний</td>\n",
       "      <td>Левый</td>\n",
       "      <td>Не требует ремонта</td>\n",
       "      <td>Растаможен</td>\n",
       "    </tr>\n",
       "    <tr>\n",
       "      <th>2</th>\n",
       "      <td>лифтбек</td>\n",
       "      <td>SKODA</td>\n",
       "      <td>https://auto.ru/cars/used/sale/skoda/superb/11...</td>\n",
       "      <td>серый</td>\n",
       "      <td>{\"id\":\"20026336\",\"name\":\"Ambition\",\"available_...</td>\n",
       "      <td>Все автомобили, представленные в продаже, прох...</td>\n",
       "      <td>1.8 LTR</td>\n",
       "      <td>152 N12</td>\n",
       "      <td>{\"cruise-control\":true,\"tinted-glass\":true,\"es...</td>\n",
       "      <td>бензин</td>\n",
       "      <td>...</td>\n",
       "      <td>LIFTBACK ROBOT 1.8</td>\n",
       "      <td>роботизированная</td>\n",
       "      <td>EUROPEAN</td>\n",
       "      <td>1 владелец</td>\n",
       "      <td>NaN</td>\n",
       "      <td>Оригинал</td>\n",
       "      <td>передний</td>\n",
       "      <td>Левый</td>\n",
       "      <td>Не требует ремонта</td>\n",
       "      <td>Растаможен</td>\n",
       "    </tr>\n",
       "  </tbody>\n",
       "</table>\n",
       "<p>3 rows × 32 columns</p>\n",
       "</div>"
      ],
      "text/plain": [
       "  bodyType  brand                                            car_url   color  \\\n",
       "0  лифтбек  SKODA  https://auto.ru/cars/used/sale/skoda/octavia/1...   синий   \n",
       "1  лифтбек  SKODA  https://auto.ru/cars/used/sale/skoda/octavia/1...  чёрный   \n",
       "2  лифтбек  SKODA  https://auto.ru/cars/used/sale/skoda/superb/11...   серый   \n",
       "\n",
       "                                  complectation_dict  \\\n",
       "0                                                NaN   \n",
       "1                                                NaN   \n",
       "2  {\"id\":\"20026336\",\"name\":\"Ambition\",\"available_...   \n",
       "\n",
       "                                         description engineDisplacement  \\\n",
       "0  Все автомобили, представленные в продаже, прох...            1.2 LTR   \n",
       "1  ЛОТ: 01217195\\nАвтопрага Север\\nДанный автомоб...            1.6 LTR   \n",
       "2  Все автомобили, представленные в продаже, прох...            1.8 LTR   \n",
       "\n",
       "  enginePower                                     equipment_dict fuelType  \\\n",
       "0     105 N12  {\"engine-proof\":true,\"tinted-glass\":true,\"airb...   бензин   \n",
       "1     110 N12  {\"cruise-control\":true,\"asr\":true,\"esp\":true,\"...   бензин   \n",
       "2     152 N12  {\"cruise-control\":true,\"tinted-glass\":true,\"es...   бензин   \n",
       "\n",
       "   ...     vehicleConfiguration  vehicleTransmission    vendor    Владельцы  \\\n",
       "0  ...       LIFTBACK ROBOT 1.2     роботизированная  EUROPEAN  3 или более   \n",
       "1  ...  LIFTBACK MECHANICAL 1.6         механическая  EUROPEAN   1 владелец   \n",
       "2  ...       LIFTBACK ROBOT 1.8     роботизированная  EUROPEAN   1 владелец   \n",
       "\n",
       "  Владение       ПТС    Привод   Руль           Состояние     Таможня  \n",
       "0      NaN  Оригинал  передний  Левый  Не требует ремонта  Растаможен  \n",
       "1      NaN  Оригинал  передний  Левый  Не требует ремонта  Растаможен  \n",
       "2      NaN  Оригинал  передний  Левый  Не требует ремонта  Растаможен  \n",
       "\n",
       "[3 rows x 32 columns]"
      ]
     },
     "execution_count": 55,
     "metadata": {},
     "output_type": "execute_result"
    }
   ],
   "source": [
    "test.head(3)"
   ]
  },
  {
   "cell_type": "code",
   "execution_count": 56,
   "id": "directed-military",
   "metadata": {},
   "outputs": [
    {
     "name": "stdout",
     "output_type": "stream",
     "text": [
      "<class 'pandas.core.frame.DataFrame'>\n",
      "RangeIndex: 34686 entries, 0 to 34685\n",
      "Data columns (total 32 columns):\n",
      " #   Column                Non-Null Count  Dtype \n",
      "---  ------                --------------  ----- \n",
      " 0   bodyType              34686 non-null  object\n",
      " 1   brand                 34686 non-null  object\n",
      " 2   car_url               34686 non-null  object\n",
      " 3   color                 34686 non-null  object\n",
      " 4   complectation_dict    6418 non-null   object\n",
      " 5   description           34686 non-null  object\n",
      " 6   engineDisplacement    34686 non-null  object\n",
      " 7   enginePower           34686 non-null  object\n",
      " 8   equipment_dict        24690 non-null  object\n",
      " 9   fuelType              34686 non-null  object\n",
      " 10  image                 34686 non-null  object\n",
      " 11  mileage               34686 non-null  int64 \n",
      " 12  modelDate             34686 non-null  int64 \n",
      " 13  model_info            34686 non-null  object\n",
      " 14  model_name            34686 non-null  object\n",
      " 15  name                  34686 non-null  object\n",
      " 16  numberOfDoors         34686 non-null  int64 \n",
      " 17  parsing_unixtime      34686 non-null  int64 \n",
      " 18  priceCurrency         34686 non-null  object\n",
      " 19  productionDate        34686 non-null  int64 \n",
      " 20  sell_id               34686 non-null  int64 \n",
      " 21  super_gen             34686 non-null  object\n",
      " 22  vehicleConfiguration  34686 non-null  object\n",
      " 23  vehicleTransmission   34686 non-null  object\n",
      " 24  vendor                34686 non-null  object\n",
      " 25  Владельцы             34686 non-null  object\n",
      " 26  Владение              11995 non-null  object\n",
      " 27  ПТС                   34685 non-null  object\n",
      " 28  Привод                34686 non-null  object\n",
      " 29  Руль                  34686 non-null  object\n",
      " 30  Состояние             34686 non-null  object\n",
      " 31  Таможня               34686 non-null  object\n",
      "dtypes: int64(6), object(26)\n",
      "memory usage: 8.5+ MB\n"
     ]
    }
   ],
   "source": [
    "test.info()"
   ]
  },
  {
   "cell_type": "code",
   "execution_count": 57,
   "id": "southern-mainstream",
   "metadata": {},
   "outputs": [
    {
     "name": "stdout",
     "output_type": "stream",
     "text": [
      "<class 'pandas.core.frame.DataFrame'>\n",
      "RangeIndex: 112508 entries, 0 to 112507\n",
      "Data columns (total 20 columns):\n",
      " #   Column               Non-Null Count   Dtype  \n",
      "---  ------               --------------   -----  \n",
      " 0   bodyType             112508 non-null  object \n",
      " 1   brand                112508 non-null  object \n",
      " 2   car_url              112508 non-null  object \n",
      " 3   color                112508 non-null  object \n",
      " 4   options              112508 non-null  object \n",
      " 5   description          111433 non-null  object \n",
      " 6   engineDisplacement   112508 non-null  float64\n",
      " 7   enginePower          112508 non-null  int64  \n",
      " 8   fuelType             112508 non-null  object \n",
      " 9   mileage              112508 non-null  int64  \n",
      " 10  model_name           112508 non-null  object \n",
      " 11  name                 112508 non-null  object \n",
      " 12  productionDate       112508 non-null  int64  \n",
      " 13  vehicleTransmission  112508 non-null  object \n",
      " 14  owners               112507 non-null  object \n",
      " 15  pts                  112508 non-null  object \n",
      " 16  own                  17796 non-null   object \n",
      " 17  drive                112508 non-null  object \n",
      " 18  wheel                112508 non-null  object \n",
      " 19  price                112508 non-null  int64  \n",
      "dtypes: float64(1), int64(4), object(15)\n",
      "memory usage: 17.2+ MB\n"
     ]
    }
   ],
   "source": [
    "df.info()"
   ]
  },
  {
   "cell_type": "code",
   "execution_count": 76,
   "id": "wicked-software",
   "metadata": {},
   "outputs": [],
   "source": [
    "#приведение названий колонок к одному имени\n",
    "test = test.rename(columns={'Владельцы': 'owners', 'ПТС': 'pts', 'Владение': 'own', 'Привод':'drive', 'Руль':'wheel'})"
   ]
  },
  {
   "cell_type": "code",
   "execution_count": 8,
   "id": "individual-devices",
   "metadata": {},
   "outputs": [
    {
     "data": {
      "application/vnd.jupyter.widget-view+json": {
       "model_id": "39c653a243254230b2dd63be48085c30",
       "version_major": 2,
       "version_minor": 0
      },
      "text/plain": [
       "Summarize dataset:   0%|          | 0/45 [00:00<?, ?it/s]"
      ]
     },
     "metadata": {},
     "output_type": "display_data"
    },
    {
     "data": {
      "application/vnd.jupyter.widget-view+json": {
       "model_id": "6207abb175894a12938657d6ee14bc5b",
       "version_major": 2,
       "version_minor": 0
      },
      "text/plain": [
       "Generate report structure:   0%|          | 0/1 [00:00<?, ?it/s]"
      ]
     },
     "metadata": {},
     "output_type": "display_data"
    },
    {
     "data": {
      "application/vnd.jupyter.widget-view+json": {
       "model_id": "642ac41df95e479f8298b864133b921e",
       "version_major": 2,
       "version_minor": 0
      },
      "text/plain": [
       "Render HTML:   0%|          | 0/1 [00:00<?, ?it/s]"
      ]
     },
     "metadata": {},
     "output_type": "display_data"
    },
    {
     "data": {
      "application/vnd.jupyter.widget-view+json": {
       "model_id": "87c59a7b35d44bc9a501e9a0ef69030d",
       "version_major": 2,
       "version_minor": 0
      },
      "text/plain": [
       "Export report to file:   0%|          | 0/1 [00:00<?, ?it/s]"
      ]
     },
     "metadata": {},
     "output_type": "display_data"
    },
    {
     "data": {
      "application/vnd.jupyter.widget-view+json": {
       "model_id": "b6fcad26386b48e9a11e06392a088a4e",
       "version_major": 2,
       "version_minor": 0
      },
      "text/plain": [
       "Summarize dataset:   0%|          | 0/33 [00:00<?, ?it/s]"
      ]
     },
     "metadata": {},
     "output_type": "display_data"
    },
    {
     "data": {
      "application/vnd.jupyter.widget-view+json": {
       "model_id": "4a14e09bd876441d8f4c7b2f001535e7",
       "version_major": 2,
       "version_minor": 0
      },
      "text/plain": [
       "Generate report structure:   0%|          | 0/1 [00:00<?, ?it/s]"
      ]
     },
     "metadata": {},
     "output_type": "display_data"
    },
    {
     "data": {
      "application/vnd.jupyter.widget-view+json": {
       "model_id": "cb9d792e5f99405b9362032213cdeaa9",
       "version_major": 2,
       "version_minor": 0
      },
      "text/plain": [
       "Render HTML:   0%|          | 0/1 [00:00<?, ?it/s]"
      ]
     },
     "metadata": {},
     "output_type": "display_data"
    },
    {
     "data": {
      "application/vnd.jupyter.widget-view+json": {
       "model_id": "754a4b8c784a418baaf7737e3099db3a",
       "version_major": 2,
       "version_minor": 0
      },
      "text/plain": [
       "Export report to file:   0%|          | 0/1 [00:00<?, ?it/s]"
      ]
     },
     "metadata": {},
     "output_type": "display_data"
    }
   ],
   "source": [
    "#обзор тестовый данный с помощью Profile Reportвыгружаем \n",
    "#результат выгружаем в pandas_profile_output.html\n",
    "profile = pp.ProfileReport(test)\n",
    "profile.to_file('pandas_profile_test_output.html')\n",
    "profile = pp.ProfileReport(df)\n",
    "profile.to_file('pandas_profile_data_output.html')"
   ]
  },
  {
   "cell_type": "markdown",
   "id": "tropical-bumper",
   "metadata": {},
   "source": [
    "После обзора данных выявлены некоторые различия в типах и формате данных в собранных и тестовых выборках. А так же отсутствие некоторых параметров в собранных данных, таких как страна производитель и год выпуска модели. Эти данные можно будет взять из тестовой выборки.\n",
    "Так же требуют обработки и приведения к одномо виду данные о снаряжении автомобилей. "
   ]
  },
  {
   "cell_type": "markdown",
   "id": "intelligent-colonial",
   "metadata": {},
   "source": [
    "Приведение признаков к одному виду"
   ]
  },
  {
   "cell_type": "code",
   "execution_count": 77,
   "id": "satisfied-shoulder",
   "metadata": {},
   "outputs": [
    {
     "data": {
      "text/plain": [
       "16"
      ]
     },
     "execution_count": 77,
     "metadata": {},
     "output_type": "execute_result"
    }
   ],
   "source": [
    "#bodyType - редкие значения переименуем в \"редкий\", категорийный признак, 16 уникальных значений\n",
    "bodyType_counts = test.bodyType.value_counts()\n",
    "df.bodyType = df.bodyType.apply(lambda x: 'редкий' if bodyType_counts[x]<20 else x)\n",
    "test.bodyType = test.bodyType.apply(lambda x: 'редкий' if bodyType_counts[x]<20 else x)\n",
    "test.bodyType.nunique()"
   ]
  },
  {
   "cell_type": "code",
   "execution_count": 78,
   "id": "light-explosion",
   "metadata": {},
   "outputs": [],
   "source": [
    "#brand - категорийный признак 12 уникальных значений."
   ]
  },
  {
   "cell_type": "code",
   "execution_count": 79,
   "id": "continent-covering",
   "metadata": {},
   "outputs": [],
   "source": [
    "#car_url - неуникальные значения, для будующей модели использоваться не будут."
   ]
  },
  {
   "cell_type": "code",
   "execution_count": 80,
   "id": "whole-telling",
   "metadata": {},
   "outputs": [],
   "source": [
    "#color - категорийный признак 16 уникальных значений"
   ]
  },
  {
   "cell_type": "code",
   "execution_count": 81,
   "id": "enhanced-offer",
   "metadata": {},
   "outputs": [],
   "source": [
    "#complectation_dict - отсутствует в собранной выборке"
   ]
  },
  {
   "cell_type": "code",
   "execution_count": 82,
   "id": "superb-manner",
   "metadata": {},
   "outputs": [],
   "source": [
    "#description - описание продавца, на первом этапе обучения модели данный признак использовать не дудем,\n",
    "#в дальнейшем создадим дополнительные признаки на его основе."
   ]
  },
  {
   "cell_type": "code",
   "execution_count": 83,
   "id": "sublime-structure",
   "metadata": {},
   "outputs": [],
   "source": [
    "#engineDisplacement - числовой признак, приведем к единому вещественному типу данных\n",
    "test.engineDisplacement = test.engineDisplacement.apply(lambda x: float(x[:-4]) if x[:-4] else None)"
   ]
  },
  {
   "cell_type": "code",
   "execution_count": 84,
   "id": "naval-pickup",
   "metadata": {},
   "outputs": [],
   "source": [
    "#enginePower - числовой признак, приведем к единому целочисленному типу данных\n",
    "test.enginePower = test.enginePower.apply(lambda x: float(x[:-4]) if x[:-4] else None)"
   ]
  },
  {
   "cell_type": "code",
   "execution_count": 85,
   "id": "bright-bumper",
   "metadata": {},
   "outputs": [],
   "source": [
    "#equipment_dict"
   ]
  },
  {
   "cell_type": "code",
   "execution_count": 86,
   "id": "going-campaign",
   "metadata": {},
   "outputs": [],
   "source": [
    "options = pd.read_csv(\"data/options.csv\", sep=\";\", encoding=\"cp1251\")\n",
    "options_dict = {}\n",
    "for line in options.values:\n",
    "    options_dict[line[1]] = line[0]"
   ]
  },
  {
   "cell_type": "code",
   "execution_count": 87,
   "id": "authentic-massage",
   "metadata": {},
   "outputs": [],
   "source": [
    "def options_translater(element):\n",
    "    \"\"\"Функция переводит данные по присутствующим опциям в собраном датесете и приводит их к списку\"\"\"\n",
    "    elm = eval(element)\n",
    "    data = []\n",
    "    for option in elm.values():\n",
    "        for item in option:\n",
    "            if item in options_dict:\n",
    "               data.append(options_dict[item])\n",
    "    return data"
   ]
  },
  {
   "cell_type": "code",
   "execution_count": 100,
   "id": "synthetic-individual",
   "metadata": {},
   "outputs": [],
   "source": [
    "def options_optimizer(element):\n",
    "    \"\"\"Фунция приводит данные по присутствующим опциям в тестовом датасете \n",
    "    к списку и к единому виду с данными в собранным датасетом\"\"\"\n",
    "    try:\n",
    "        elm = json.loads(element)\n",
    "    except Exception:\n",
    "        return None\n",
    "    data = []\n",
    "    for item in elm:\n",
    "        if item in options_dict.values():\n",
    "            data.append(item)\n",
    "    return data"
   ]
  },
  {
   "cell_type": "code",
   "execution_count": 103,
   "id": "about-purse",
   "metadata": {},
   "outputs": [],
   "source": [
    "df['equipment_dict'] = df.options.apply(options_translater)\n",
    "test['equipment_dict'] = test['equipment_dict'].apply(options_optimizer)"
   ]
  },
  {
   "cell_type": "code",
   "execution_count": 49,
   "id": "dated-turning",
   "metadata": {},
   "outputs": [],
   "source": [
    "df['test'] = test"
   ]
  },
  {
   "cell_type": "code",
   "execution_count": 50,
   "id": "nutritional-melissa",
   "metadata": {},
   "outputs": [],
   "source": [
    "def options_optimizer(element):\n",
    "    elm = json.loads(element)\n",
    "    data = {}\n",
    "    for item in elm:\n",
    "        if item in options_dict.values():\n",
    "            print(item)\n",
    "    return data"
   ]
  },
  {
   "cell_type": "code",
   "execution_count": 51,
   "id": "consolidated-nevada",
   "metadata": {},
   "outputs": [
    {
     "ename": "NameError",
     "evalue": "name 'str1' is not defined",
     "output_type": "error",
     "traceback": [
      "\u001b[1;31m---------------------------------------------------------------------------\u001b[0m",
      "\u001b[1;31mNameError\u001b[0m                                 Traceback (most recent call last)",
      "\u001b[1;32m<ipython-input-51-b8ae047a71d5>\u001b[0m in \u001b[0;36m<module>\u001b[1;34m\u001b[0m\n\u001b[1;32m----> 1\u001b[1;33m \u001b[0moptions_optimizer\u001b[0m\u001b[1;33m(\u001b[0m\u001b[0mstr1\u001b[0m\u001b[1;33m)\u001b[0m\u001b[1;33m\u001b[0m\u001b[1;33m\u001b[0m\u001b[0m\n\u001b[0m",
      "\u001b[1;31mNameError\u001b[0m: name 'str1' is not defined"
     ]
    }
   ],
   "source": []
  },
  {
   "cell_type": "code",
   "execution_count": 118,
   "id": "polished-pound",
   "metadata": {},
   "outputs": [
    {
     "data": {
      "text/plain": [
       "'{\"engine-proof\":true,\"tinted-glass\":true,\"airbag-driver\":true,\"aux\":true,\"isofix\":true,\"electro-window-front\":true,\"ashtray-and-cigarette-lighter\":true,\"airbag-passenger\":true,\"computer\":true,\"high-beam-assist\":true,\"seat-transformation\":true,\"isofix-front\":true,\"wheel-power\":true,\"alarm\":true,\"lock\":true,\"door-sill-panel\":true,\"fabric-seats\":true,\"electro-mirrors\":true,\"airbag-rear-side\":true,\"electro-window-back\":true,\"steel-wheels\":true,\"ptf\":true,\"16-inch-wheels\":true,\"rain-sensor\":true,\"airbag-side\":true,\"audiosystem-cd\":true,\"dark-interior\":true,\"cooling-box\":true,\"condition\":true,\"abs\":true,\"power-child-locks-rear-doors\":true,\"front-seats-heat\":true,\"wheel-configuration2\":true,\"wheel-configuration1\":true,\"12v-socket\":true,\"park-assist-r\":true}'"
      ]
     },
     "execution_count": 118,
     "metadata": {},
     "output_type": "execute_result"
    }
   ],
   "source": [
    "test.equipment_dict.iloc[0]"
   ]
  },
  {
   "cell_type": "code",
   "execution_count": 79,
   "id": "foster-tattoo",
   "metadata": {},
   "outputs": [],
   "source": [
    "list_of_options = []\n",
    "options = set()\n",
    "for item in test.equipment_dict.str.cat(sep='||').split('||'):\n",
    "    list_of_options.append(json.loads(item))\n",
    "for item in list_of_options:\n",
    "    options.update([key for key in item.keys()])"
   ]
  },
  {
   "cell_type": "code",
   "execution_count": 81,
   "id": "rocky-campus",
   "metadata": {},
   "outputs": [],
   "source": [
    "import csv\n",
    "with open('opt_en.csv', 'w') as f:\n",
    "    wr = csv.writer(f, delimiter='\\n')\n",
    "    wr.writerow(options)"
   ]
  },
  {
   "cell_type": "code",
   "execution_count": 82,
   "id": "nervous-chair",
   "metadata": {
    "scrolled": true
   },
   "outputs": [],
   "source": [
    "l1 =[]\n",
    "#aa = json.loads(df.options.str.cat(sep='||').split('||'))\n",
    "l1 = [eval(item) for item in df.options.str.cat(sep='||').split('||') if item.strip()!='']\n"
   ]
  },
  {
   "cell_type": "code",
   "execution_count": 83,
   "id": "married-coffee",
   "metadata": {},
   "outputs": [],
   "source": [
    "s1 = set()\n",
    "for item in l1:\n",
    "    for vals in item.values():\n",
    "        s1.update(vals)"
   ]
  },
  {
   "cell_type": "code",
   "execution_count": 84,
   "id": "dominant-springer",
   "metadata": {},
   "outputs": [],
   "source": [
    "with open('opt_ru.csv', 'w') as f:\n",
    "    wr = csv.writer(f, delimiter='\\n')\n",
    "    wr.writerow(s1)"
   ]
  },
  {
   "cell_type": "code",
   "execution_count": 13,
   "id": "disciplinary-potter",
   "metadata": {},
   "outputs": [
    {
     "data": {
      "text/html": [
       "<div>\n",
       "<style scoped>\n",
       "    .dataframe tbody tr th:only-of-type {\n",
       "        vertical-align: middle;\n",
       "    }\n",
       "\n",
       "    .dataframe tbody tr th {\n",
       "        vertical-align: top;\n",
       "    }\n",
       "\n",
       "    .dataframe thead th {\n",
       "        text-align: right;\n",
       "    }\n",
       "</style>\n",
       "<table border=\"1\" class=\"dataframe\">\n",
       "  <thead>\n",
       "    <tr style=\"text-align: right;\">\n",
       "      <th></th>\n",
       "      <th>bodyType</th>\n",
       "      <th>brand</th>\n",
       "      <th>car_url</th>\n",
       "      <th>color</th>\n",
       "      <th>complectation_dict</th>\n",
       "      <th>description</th>\n",
       "      <th>engineDisplacement</th>\n",
       "      <th>enginePower</th>\n",
       "      <th>equipment_dict</th>\n",
       "      <th>fuelType</th>\n",
       "      <th>...</th>\n",
       "      <th>vehicleConfiguration</th>\n",
       "      <th>vehicleTransmission</th>\n",
       "      <th>vendor</th>\n",
       "      <th>Владельцы</th>\n",
       "      <th>Владение</th>\n",
       "      <th>ПТС</th>\n",
       "      <th>Привод</th>\n",
       "      <th>Руль</th>\n",
       "      <th>Состояние</th>\n",
       "      <th>Таможня</th>\n",
       "    </tr>\n",
       "  </thead>\n",
       "  <tbody>\n",
       "    <tr>\n",
       "      <th>0</th>\n",
       "      <td>лифтбек</td>\n",
       "      <td>SKODA</td>\n",
       "      <td>https://auto.ru/cars/used/sale/skoda/octavia/1...</td>\n",
       "      <td>синий</td>\n",
       "      <td>NaN</td>\n",
       "      <td>Все автомобили, представленные в продаже, прох...</td>\n",
       "      <td>1.2 LTR</td>\n",
       "      <td>105 N12</td>\n",
       "      <td>{\"engine-proof\":true,\"tinted-glass\":true,\"airb...</td>\n",
       "      <td>бензин</td>\n",
       "      <td>...</td>\n",
       "      <td>LIFTBACK ROBOT 1.2</td>\n",
       "      <td>роботизированная</td>\n",
       "      <td>EUROPEAN</td>\n",
       "      <td>3 или более</td>\n",
       "      <td>NaN</td>\n",
       "      <td>Оригинал</td>\n",
       "      <td>передний</td>\n",
       "      <td>Левый</td>\n",
       "      <td>Не требует ремонта</td>\n",
       "      <td>Растаможен</td>\n",
       "    </tr>\n",
       "    <tr>\n",
       "      <th>1</th>\n",
       "      <td>лифтбек</td>\n",
       "      <td>SKODA</td>\n",
       "      <td>https://auto.ru/cars/used/sale/skoda/octavia/1...</td>\n",
       "      <td>чёрный</td>\n",
       "      <td>NaN</td>\n",
       "      <td>ЛОТ: 01217195\\nАвтопрага Север\\nДанный автомоб...</td>\n",
       "      <td>1.6 LTR</td>\n",
       "      <td>110 N12</td>\n",
       "      <td>{\"cruise-control\":true,\"asr\":true,\"esp\":true,\"...</td>\n",
       "      <td>бензин</td>\n",
       "      <td>...</td>\n",
       "      <td>LIFTBACK MECHANICAL 1.6</td>\n",
       "      <td>механическая</td>\n",
       "      <td>EUROPEAN</td>\n",
       "      <td>1 владелец</td>\n",
       "      <td>NaN</td>\n",
       "      <td>Оригинал</td>\n",
       "      <td>передний</td>\n",
       "      <td>Левый</td>\n",
       "      <td>Не требует ремонта</td>\n",
       "      <td>Растаможен</td>\n",
       "    </tr>\n",
       "    <tr>\n",
       "      <th>2</th>\n",
       "      <td>лифтбек</td>\n",
       "      <td>SKODA</td>\n",
       "      <td>https://auto.ru/cars/used/sale/skoda/superb/11...</td>\n",
       "      <td>серый</td>\n",
       "      <td>{\"id\":\"20026336\",\"name\":\"Ambition\",\"available_...</td>\n",
       "      <td>Все автомобили, представленные в продаже, прох...</td>\n",
       "      <td>1.8 LTR</td>\n",
       "      <td>152 N12</td>\n",
       "      <td>{\"cruise-control\":true,\"tinted-glass\":true,\"es...</td>\n",
       "      <td>бензин</td>\n",
       "      <td>...</td>\n",
       "      <td>LIFTBACK ROBOT 1.8</td>\n",
       "      <td>роботизированная</td>\n",
       "      <td>EUROPEAN</td>\n",
       "      <td>1 владелец</td>\n",
       "      <td>NaN</td>\n",
       "      <td>Оригинал</td>\n",
       "      <td>передний</td>\n",
       "      <td>Левый</td>\n",
       "      <td>Не требует ремонта</td>\n",
       "      <td>Растаможен</td>\n",
       "    </tr>\n",
       "    <tr>\n",
       "      <th>3</th>\n",
       "      <td>лифтбек</td>\n",
       "      <td>SKODA</td>\n",
       "      <td>https://auto.ru/cars/used/sale/skoda/octavia/1...</td>\n",
       "      <td>коричневый</td>\n",
       "      <td>{\"id\":\"20803582\",\"name\":\"Ambition\",\"available_...</td>\n",
       "      <td>КОМПЛЕКТ ЗИМНЕЙ (ЛЕТНЕЙ) РЕЗИНЫ ПО СЕЗОНУ В ПО...</td>\n",
       "      <td>1.6 LTR</td>\n",
       "      <td>110 N12</td>\n",
       "      <td>{\"cruise-control\":true,\"roller-blind-for-rear-...</td>\n",
       "      <td>бензин</td>\n",
       "      <td>...</td>\n",
       "      <td>LIFTBACK AUTOMATIC 1.6</td>\n",
       "      <td>автоматическая</td>\n",
       "      <td>EUROPEAN</td>\n",
       "      <td>1 владелец</td>\n",
       "      <td>NaN</td>\n",
       "      <td>Оригинал</td>\n",
       "      <td>передний</td>\n",
       "      <td>Левый</td>\n",
       "      <td>Не требует ремонта</td>\n",
       "      <td>Растаможен</td>\n",
       "    </tr>\n",
       "    <tr>\n",
       "      <th>4</th>\n",
       "      <td>лифтбек</td>\n",
       "      <td>SKODA</td>\n",
       "      <td>https://auto.ru/cars/used/sale/skoda/octavia/1...</td>\n",
       "      <td>белый</td>\n",
       "      <td>NaN</td>\n",
       "      <td>ЛОТ: 01220889\\nАвтопрага Север\\n\\nВы можете по...</td>\n",
       "      <td>1.8 LTR</td>\n",
       "      <td>152 N12</td>\n",
       "      <td>{\"cruise-control\":true,\"asr\":true,\"esp\":true,\"...</td>\n",
       "      <td>бензин</td>\n",
       "      <td>...</td>\n",
       "      <td>LIFTBACK AUTOMATIC 1.8</td>\n",
       "      <td>автоматическая</td>\n",
       "      <td>EUROPEAN</td>\n",
       "      <td>1 владелец</td>\n",
       "      <td>NaN</td>\n",
       "      <td>Оригинал</td>\n",
       "      <td>передний</td>\n",
       "      <td>Левый</td>\n",
       "      <td>Не требует ремонта</td>\n",
       "      <td>Растаможен</td>\n",
       "    </tr>\n",
       "  </tbody>\n",
       "</table>\n",
       "<p>5 rows × 32 columns</p>\n",
       "</div>"
      ],
      "text/plain": [
       "  bodyType  brand                                            car_url  \\\n",
       "0  лифтбек  SKODA  https://auto.ru/cars/used/sale/skoda/octavia/1...   \n",
       "1  лифтбек  SKODA  https://auto.ru/cars/used/sale/skoda/octavia/1...   \n",
       "2  лифтбек  SKODA  https://auto.ru/cars/used/sale/skoda/superb/11...   \n",
       "3  лифтбек  SKODA  https://auto.ru/cars/used/sale/skoda/octavia/1...   \n",
       "4  лифтбек  SKODA  https://auto.ru/cars/used/sale/skoda/octavia/1...   \n",
       "\n",
       "        color                                 complectation_dict  \\\n",
       "0       синий                                                NaN   \n",
       "1      чёрный                                                NaN   \n",
       "2       серый  {\"id\":\"20026336\",\"name\":\"Ambition\",\"available_...   \n",
       "3  коричневый  {\"id\":\"20803582\",\"name\":\"Ambition\",\"available_...   \n",
       "4       белый                                                NaN   \n",
       "\n",
       "                                         description engineDisplacement  \\\n",
       "0  Все автомобили, представленные в продаже, прох...            1.2 LTR   \n",
       "1  ЛОТ: 01217195\\nАвтопрага Север\\nДанный автомоб...            1.6 LTR   \n",
       "2  Все автомобили, представленные в продаже, прох...            1.8 LTR   \n",
       "3  КОМПЛЕКТ ЗИМНЕЙ (ЛЕТНЕЙ) РЕЗИНЫ ПО СЕЗОНУ В ПО...            1.6 LTR   \n",
       "4  ЛОТ: 01220889\\nАвтопрага Север\\n\\nВы можете по...            1.8 LTR   \n",
       "\n",
       "  enginePower                                     equipment_dict fuelType  \\\n",
       "0     105 N12  {\"engine-proof\":true,\"tinted-glass\":true,\"airb...   бензин   \n",
       "1     110 N12  {\"cruise-control\":true,\"asr\":true,\"esp\":true,\"...   бензин   \n",
       "2     152 N12  {\"cruise-control\":true,\"tinted-glass\":true,\"es...   бензин   \n",
       "3     110 N12  {\"cruise-control\":true,\"roller-blind-for-rear-...   бензин   \n",
       "4     152 N12  {\"cruise-control\":true,\"asr\":true,\"esp\":true,\"...   бензин   \n",
       "\n",
       "   ...     vehicleConfiguration  vehicleTransmission    vendor    Владельцы  \\\n",
       "0  ...       LIFTBACK ROBOT 1.2     роботизированная  EUROPEAN  3 или более   \n",
       "1  ...  LIFTBACK MECHANICAL 1.6         механическая  EUROPEAN   1 владелец   \n",
       "2  ...       LIFTBACK ROBOT 1.8     роботизированная  EUROPEAN   1 владелец   \n",
       "3  ...   LIFTBACK AUTOMATIC 1.6       автоматическая  EUROPEAN   1 владелец   \n",
       "4  ...   LIFTBACK AUTOMATIC 1.8       автоматическая  EUROPEAN   1 владелец   \n",
       "\n",
       "  Владение       ПТС    Привод   Руль           Состояние     Таможня  \n",
       "0      NaN  Оригинал  передний  Левый  Не требует ремонта  Растаможен  \n",
       "1      NaN  Оригинал  передний  Левый  Не требует ремонта  Растаможен  \n",
       "2      NaN  Оригинал  передний  Левый  Не требует ремонта  Растаможен  \n",
       "3      NaN  Оригинал  передний  Левый  Не требует ремонта  Растаможен  \n",
       "4      NaN  Оригинал  передний  Левый  Не требует ремонта  Растаможен  \n",
       "\n",
       "[5 rows x 32 columns]"
      ]
     },
     "execution_count": 13,
     "metadata": {},
     "output_type": "execute_result"
    }
   ],
   "source": [
    "test_df.head()"
   ]
  },
  {
   "cell_type": "code",
   "execution_count": 59,
   "id": "present-hindu",
   "metadata": {},
   "outputs": [],
   "source": [
    "test_df = test_df.rename(columns={'Владельцы': 'owners', 'ПТС': 'pts', 'Владение': 'own', 'Привод':'drive', 'Руль':'wheel'})"
   ]
  },
  {
   "cell_type": "code",
   "execution_count": 53,
   "id": "public-columbus",
   "metadata": {},
   "outputs": [],
   "source": [
    "df.columns = ['bodyType', 'brand', 'car_url', 'color', 'options', 'description', 'engineDisplacement', 'enginePower', 'fuelType', 'mileage','model_name', 'name', 'productionDate', 'vehicleTransmission', 'owners', 'pts', 'own', 'drive', 'wheel', 'price']"
   ]
  },
  {
   "cell_type": "code",
   "execution_count": 54,
   "id": "correct-drain",
   "metadata": {},
   "outputs": [
    {
     "data": {
      "text/html": [
       "<div>\n",
       "<style scoped>\n",
       "    .dataframe tbody tr th:only-of-type {\n",
       "        vertical-align: middle;\n",
       "    }\n",
       "\n",
       "    .dataframe tbody tr th {\n",
       "        vertical-align: top;\n",
       "    }\n",
       "\n",
       "    .dataframe thead th {\n",
       "        text-align: right;\n",
       "    }\n",
       "</style>\n",
       "<table border=\"1\" class=\"dataframe\">\n",
       "  <thead>\n",
       "    <tr style=\"text-align: right;\">\n",
       "      <th></th>\n",
       "      <th>bodyType</th>\n",
       "      <th>brand</th>\n",
       "      <th>car_url</th>\n",
       "      <th>color</th>\n",
       "      <th>options</th>\n",
       "      <th>description</th>\n",
       "      <th>engineDisplacement</th>\n",
       "      <th>enginePower</th>\n",
       "      <th>fuelType</th>\n",
       "      <th>mileage</th>\n",
       "      <th>model_name</th>\n",
       "      <th>name</th>\n",
       "      <th>productionDate</th>\n",
       "      <th>vehicleTransmission</th>\n",
       "      <th>owners</th>\n",
       "      <th>pts</th>\n",
       "      <th>own</th>\n",
       "      <th>drive</th>\n",
       "      <th>wheel</th>\n",
       "      <th>price</th>\n",
       "    </tr>\n",
       "  </thead>\n",
       "  <tbody>\n",
       "    <tr>\n",
       "      <th>0</th>\n",
       "      <td>внедорожник 5 дв.</td>\n",
       "      <td>MITSUBISHI</td>\n",
       "      <td>https://auto.ru/cars/used/sale/mitsubishi/paje...</td>\n",
       "      <td>чёрный</td>\n",
       "      <td>{'Безопасность': ['Антипробуксовочная система ...</td>\n",
       "      <td>Выгода до 82 000 рублей при обмене на Ваш авто...</td>\n",
       "      <td>3.0</td>\n",
       "      <td>178</td>\n",
       "      <td>Бензин</td>\n",
       "      <td>211242</td>\n",
       "      <td>pajero</td>\n",
       "      <td>3.0 AT (178 л.с.) 4WD</td>\n",
       "      <td>2007</td>\n",
       "      <td>автоматическая</td>\n",
       "      <td>3 или более</td>\n",
       "      <td>Дубликат</td>\n",
       "      <td>NaN</td>\n",
       "      <td>полный</td>\n",
       "      <td>Левый</td>\n",
       "      <td>887000</td>\n",
       "    </tr>\n",
       "    <tr>\n",
       "      <th>1</th>\n",
       "      <td>седан</td>\n",
       "      <td>MITSUBISHI</td>\n",
       "      <td>https://auto.ru/cars/used/sale/mitsubishi/lanc...</td>\n",
       "      <td>синий</td>\n",
       "      <td>{'Комфорт': ['Электростеклоподъёмники задние',...</td>\n",
       "      <td>Официальный дилерский центр РОЛЬФ Вешки предла...</td>\n",
       "      <td>2.0</td>\n",
       "      <td>150</td>\n",
       "      <td>Бензин</td>\n",
       "      <td>149774</td>\n",
       "      <td>lancer</td>\n",
       "      <td>2.0 CVT (150 л.с.)</td>\n",
       "      <td>2007</td>\n",
       "      <td>вариатор</td>\n",
       "      <td>2 владельца</td>\n",
       "      <td>Оригинал</td>\n",
       "      <td>NaN</td>\n",
       "      <td>передний</td>\n",
       "      <td>Левый</td>\n",
       "      <td>549000</td>\n",
       "    </tr>\n",
       "    <tr>\n",
       "      <th>2</th>\n",
       "      <td>внедорожник 5 дв.</td>\n",
       "      <td>MITSUBISHI</td>\n",
       "      <td>https://auto.ru/cars/used/sale/mitsubishi/paje...</td>\n",
       "      <td>чёрный</td>\n",
       "      <td>{'Комфорт': ['Круиз-контроль', 'Мультифункцион...</td>\n",
       "      <td>Внимание! Только для клиентов AVILON Автомобил...</td>\n",
       "      <td>3.8</td>\n",
       "      <td>250</td>\n",
       "      <td>Бензин</td>\n",
       "      <td>211220</td>\n",
       "      <td>pajero</td>\n",
       "      <td>3.8 AT (250 л.с.) 4WD</td>\n",
       "      <td>2008</td>\n",
       "      <td>автоматическая</td>\n",
       "      <td>1 владелец</td>\n",
       "      <td>Оригинал</td>\n",
       "      <td>NaN</td>\n",
       "      <td>полный</td>\n",
       "      <td>Левый</td>\n",
       "      <td>981000</td>\n",
       "    </tr>\n",
       "    <tr>\n",
       "      <th>3</th>\n",
       "      <td>пикап двойная кабина</td>\n",
       "      <td>MITSUBISHI</td>\n",
       "      <td>https://auto.ru/cars/used/sale/mitsubishi/l200...</td>\n",
       "      <td>чёрный</td>\n",
       "      <td>{'Безопасность': ['Антипробуксовочная система ...</td>\n",
       "      <td>Автомобиль продается дилерским центром «РРТ-Ав...</td>\n",
       "      <td>2.5</td>\n",
       "      <td>136</td>\n",
       "      <td>Дизель</td>\n",
       "      <td>197418</td>\n",
       "      <td>l200</td>\n",
       "      <td>2.5d AT (136 л.с.) 4WD</td>\n",
       "      <td>2008</td>\n",
       "      <td>автоматическая</td>\n",
       "      <td>3 или более</td>\n",
       "      <td>Дубликат</td>\n",
       "      <td>NaN</td>\n",
       "      <td>полный</td>\n",
       "      <td>Левый</td>\n",
       "      <td>749000</td>\n",
       "    </tr>\n",
       "    <tr>\n",
       "      <th>4</th>\n",
       "      <td>внедорожник 5 дв.</td>\n",
       "      <td>MITSUBISHI</td>\n",
       "      <td>https://auto.ru/cars/used/sale/mitsubishi/paje...</td>\n",
       "      <td>чёрный</td>\n",
       "      <td>{'Комфорт': ['Круиз-контроль', 'Мультифункцион...</td>\n",
       "      <td>Mitsubishi Pajero IV Внедорожник 5 дв. 3.2d AT...</td>\n",
       "      <td>3.2</td>\n",
       "      <td>170</td>\n",
       "      <td>Дизель</td>\n",
       "      <td>153896</td>\n",
       "      <td>pajero</td>\n",
       "      <td>3.2d AT (170 л.с.) 4WD</td>\n",
       "      <td>2008</td>\n",
       "      <td>автоматическая</td>\n",
       "      <td>2 владельца</td>\n",
       "      <td>Оригинал</td>\n",
       "      <td>11 лет</td>\n",
       "      <td>полный</td>\n",
       "      <td>Левый</td>\n",
       "      <td>1080000</td>\n",
       "    </tr>\n",
       "  </tbody>\n",
       "</table>\n",
       "</div>"
      ],
      "text/plain": [
       "               bodyType       brand  \\\n",
       "0     внедорожник 5 дв.  MITSUBISHI   \n",
       "1                 седан  MITSUBISHI   \n",
       "2     внедорожник 5 дв.  MITSUBISHI   \n",
       "3  пикап двойная кабина  MITSUBISHI   \n",
       "4     внедорожник 5 дв.  MITSUBISHI   \n",
       "\n",
       "                                             car_url   color  \\\n",
       "0  https://auto.ru/cars/used/sale/mitsubishi/paje...  чёрный   \n",
       "1  https://auto.ru/cars/used/sale/mitsubishi/lanc...   синий   \n",
       "2  https://auto.ru/cars/used/sale/mitsubishi/paje...  чёрный   \n",
       "3  https://auto.ru/cars/used/sale/mitsubishi/l200...  чёрный   \n",
       "4  https://auto.ru/cars/used/sale/mitsubishi/paje...  чёрный   \n",
       "\n",
       "                                             options  \\\n",
       "0  {'Безопасность': ['Антипробуксовочная система ...   \n",
       "1  {'Комфорт': ['Электростеклоподъёмники задние',...   \n",
       "2  {'Комфорт': ['Круиз-контроль', 'Мультифункцион...   \n",
       "3  {'Безопасность': ['Антипробуксовочная система ...   \n",
       "4  {'Комфорт': ['Круиз-контроль', 'Мультифункцион...   \n",
       "\n",
       "                                         description  engineDisplacement  \\\n",
       "0  Выгода до 82 000 рублей при обмене на Ваш авто...                 3.0   \n",
       "1  Официальный дилерский центр РОЛЬФ Вешки предла...                 2.0   \n",
       "2  Внимание! Только для клиентов AVILON Автомобил...                 3.8   \n",
       "3  Автомобиль продается дилерским центром «РРТ-Ав...                 2.5   \n",
       "4  Mitsubishi Pajero IV Внедорожник 5 дв. 3.2d AT...                 3.2   \n",
       "\n",
       "   enginePower fuelType  mileage model_name                     name  \\\n",
       "0          178   Бензин   211242     pajero   3.0 AT (178 л.с.) 4WD    \n",
       "1          150   Бензин   149774     lancer      2.0 CVT (150 л.с.)    \n",
       "2          250   Бензин   211220     pajero   3.8 AT (250 л.с.) 4WD    \n",
       "3          136   Дизель   197418       l200  2.5d AT (136 л.с.) 4WD    \n",
       "4          170   Дизель   153896     pajero  3.2d AT (170 л.с.) 4WD    \n",
       "\n",
       "   productionDate vehicleTransmission       owners       pts     own  \\\n",
       "0            2007      автоматическая  3 или более  Дубликат     NaN   \n",
       "1            2007            вариатор  2 владельца  Оригинал     NaN   \n",
       "2            2008      автоматическая   1 владелец  Оригинал     NaN   \n",
       "3            2008      автоматическая  3 или более  Дубликат     NaN   \n",
       "4            2008      автоматическая  2 владельца  Оригинал  11 лет   \n",
       "\n",
       "      drive  wheel    price  \n",
       "0    полный  Левый   887000  \n",
       "1  передний  Левый   549000  \n",
       "2    полный  Левый   981000  \n",
       "3    полный  Левый   749000  \n",
       "4    полный  Левый  1080000  "
      ]
     },
     "execution_count": 54,
     "metadata": {},
     "output_type": "execute_result"
    }
   ],
   "source": [
    "df.head()"
   ]
  },
  {
   "cell_type": "code",
   "execution_count": 47,
   "id": "filled-coast",
   "metadata": {},
   "outputs": [
    {
     "data": {
      "text/plain": [
       "3 или более    25967\n",
       "2 владельца     8387\n",
       "1 владелец      4209\n",
       "Name: Владельцы, dtype: int64"
      ]
     },
     "execution_count": 47,
     "metadata": {},
     "output_type": "execute_result"
    }
   ],
   "source": [
    "df.Владельцы.value_counts()"
   ]
  },
  {
   "cell_type": "code",
   "execution_count": 46,
   "id": "fitting-surface",
   "metadata": {},
   "outputs": [
    {
     "data": {
      "text/plain": [
       "3 или более    15957\n",
       "1 владелец      9459\n",
       "2 владельца     9270\n",
       "Name: Владельцы, dtype: int64"
      ]
     },
     "execution_count": 46,
     "metadata": {},
     "output_type": "execute_result"
    }
   ],
   "source": [
    "test_df.Владельцы.value_counts()"
   ]
  },
  {
   "cell_type": "code",
   "execution_count": null,
   "id": "nonprofit-parent",
   "metadata": {},
   "outputs": [],
   "source": [
    "cat_values = ['bodyType', 'color', 'fuelType', 'modelname', 'vehicleTransmission', 'owners', 'pts', 'own', 'wheel']\n",
    "count_values = ['engineDisplacement', 'enginePower', 'mileage', 'productionDate']"
   ]
  },
  {
   "cell_type": "code",
   "execution_count": 43,
   "id": "civil-response",
   "metadata": {},
   "outputs": [],
   "source": [
    "test_df.enginePower = test_df.enginePower.apply(lambda x: float(x[:-4]) if x[:-4] else None)"
   ]
  },
  {
   "cell_type": "code",
   "execution_count": 62,
   "id": "thermal-bermuda",
   "metadata": {},
   "outputs": [
    {
     "data": {
      "text/plain": [
       "0        {'Безопасность': ['Антипробуксовочная система ...\n",
       "1        {'Комфорт': ['Электростеклоподъёмники задние',...\n",
       "2        {'Комфорт': ['Круиз-контроль', 'Мультифункцион...\n",
       "3        {'Безопасность': ['Антипробуксовочная система ...\n",
       "4        {'Комфорт': ['Круиз-контроль', 'Мультифункцион...\n",
       "                               ...                        \n",
       "14299    {'Комфорт': ['Круиз-контроль', 'Мультифункцион...\n",
       "14300    {'Безопасность': ['Антипробуксовочная система ...\n",
       "14301    {'Безопасность': ['Подушка безопасности пассаж...\n",
       "14302    {'Элементы экстерьера': ['Легкосплавные диски'...\n",
       "14303    {'Прочее': ['Защита картера'], 'Безопасность':...\n",
       "Name: options, Length: 38564, dtype: object"
      ]
     },
     "execution_count": 62,
     "metadata": {},
     "output_type": "execute_result"
    }
   ],
   "source": [
    "df.options"
   ]
  },
  {
   "cell_type": "code",
   "execution_count": null,
   "id": "surrounded-pocket",
   "metadata": {},
   "outputs": [],
   "source": []
  }
 ],
 "metadata": {
  "kernelspec": {
   "display_name": "Python 3",
   "language": "python",
   "name": "python3"
  },
  "language_info": {
   "codemirror_mode": {
    "name": "ipython",
    "version": 3
   },
   "file_extension": ".py",
   "mimetype": "text/x-python",
   "name": "python",
   "nbconvert_exporter": "python",
   "pygments_lexer": "ipython3",
   "version": "3.8.8"
  }
 },
 "nbformat": 4,
 "nbformat_minor": 5
}
